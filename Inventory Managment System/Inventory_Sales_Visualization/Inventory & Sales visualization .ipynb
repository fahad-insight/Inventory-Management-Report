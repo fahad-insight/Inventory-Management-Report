{
 "cells": [
  {
   "cell_type": "code",
   "execution_count": 2,
   "id": "c6e3afb2-e657-4f11-b0b1-aea89348ae40",
   "metadata": {},
   "outputs": [
    {
     "data": {
      "application/vnd.plotly.v1+json": {
       "config": {
        "plotlyServerURL": "https://plot.ly"
       },
       "data": [
        {
         "hovertemplate": "Category=%{x}<br>SellingPrice=%{marker.color}<extra></extra>",
         "legendgroup": "",
         "marker": {
          "color": {
           "bdata": "mpmZmZk3sEAAAAAAAEWWQAAAAAAAHZFAXI/C9ShCj0AAAAAAAEiHQJqZmZmZYWdAAAAAAADwXkCamZmZmZlQQM3MzMzM7EZA",
           "dtype": "f8"
          },
          "coloraxis": "coloraxis",
          "pattern": {
           "shape": ""
          }
         },
         "name": "",
         "orientation": "v",
         "showlegend": false,
         "text": {
          "bdata": "mpmZmZk3sEAAAAAAAEWWQAAAAAAAHZFAXI/C9ShCj0AAAAAAAEiHQJqZmZmZYWdAAAAAAADwXkCamZmZmZlQQM3MzMzM7EZA",
          "dtype": "f8"
         },
         "textposition": "outside",
         "texttemplate": "%{text:.2f}",
         "type": "bar",
         "x": [
          "Electronics",
          "Furniture",
          "Sports Equipment",
          "Kitchenware",
          "Appliances",
          "Personal Care",
          "Clothing",
          "Stationery",
          "Beverages"
         ],
         "xaxis": "x",
         "y": {
          "bdata": "mpmZmZk3sEAAAAAAAEWWQAAAAAAAHZFAXI/C9ShCj0AAAAAAAEiHQJqZmZmZYWdAAAAAAADwXkCamZmZmZlQQM3MzMzM7EZA",
          "dtype": "f8"
         },
         "yaxis": "y"
        }
       ],
       "layout": {
        "barmode": "relative",
        "coloraxis": {
         "colorbar": {
          "title": {
           "text": "SellingPrice"
          }
         },
         "colorscale": [
          [
           0,
           "#440154"
          ],
          [
           0.1111111111111111,
           "#482878"
          ],
          [
           0.2222222222222222,
           "#3e4989"
          ],
          [
           0.3333333333333333,
           "#31688e"
          ],
          [
           0.4444444444444444,
           "#26828e"
          ],
          [
           0.5555555555555556,
           "#1f9e89"
          ],
          [
           0.6666666666666666,
           "#35b779"
          ],
          [
           0.7777777777777778,
           "#6ece58"
          ],
          [
           0.8888888888888888,
           "#b5de2b"
          ],
          [
           1,
           "#fde725"
          ]
         ]
        },
        "hovermode": "x unified",
        "legend": {
         "tracegroupgap": 0
        },
        "margin": {
         "b": 120,
         "l": 60,
         "r": 40,
         "t": 120
        },
        "template": {
         "data": {
          "bar": [
           {
            "error_x": {
             "color": "#2a3f5f"
            },
            "error_y": {
             "color": "#2a3f5f"
            },
            "marker": {
             "line": {
              "color": "#E5ECF6",
              "width": 0.5
             },
             "pattern": {
              "fillmode": "overlay",
              "size": 10,
              "solidity": 0.2
             }
            },
            "type": "bar"
           }
          ],
          "barpolar": [
           {
            "marker": {
             "line": {
              "color": "#E5ECF6",
              "width": 0.5
             },
             "pattern": {
              "fillmode": "overlay",
              "size": 10,
              "solidity": 0.2
             }
            },
            "type": "barpolar"
           }
          ],
          "carpet": [
           {
            "aaxis": {
             "endlinecolor": "#2a3f5f",
             "gridcolor": "white",
             "linecolor": "white",
             "minorgridcolor": "white",
             "startlinecolor": "#2a3f5f"
            },
            "baxis": {
             "endlinecolor": "#2a3f5f",
             "gridcolor": "white",
             "linecolor": "white",
             "minorgridcolor": "white",
             "startlinecolor": "#2a3f5f"
            },
            "type": "carpet"
           }
          ],
          "choropleth": [
           {
            "colorbar": {
             "outlinewidth": 0,
             "ticks": ""
            },
            "type": "choropleth"
           }
          ],
          "contour": [
           {
            "colorbar": {
             "outlinewidth": 0,
             "ticks": ""
            },
            "colorscale": [
             [
              0,
              "#0d0887"
             ],
             [
              0.1111111111111111,
              "#46039f"
             ],
             [
              0.2222222222222222,
              "#7201a8"
             ],
             [
              0.3333333333333333,
              "#9c179e"
             ],
             [
              0.4444444444444444,
              "#bd3786"
             ],
             [
              0.5555555555555556,
              "#d8576b"
             ],
             [
              0.6666666666666666,
              "#ed7953"
             ],
             [
              0.7777777777777778,
              "#fb9f3a"
             ],
             [
              0.8888888888888888,
              "#fdca26"
             ],
             [
              1,
              "#f0f921"
             ]
            ],
            "type": "contour"
           }
          ],
          "contourcarpet": [
           {
            "colorbar": {
             "outlinewidth": 0,
             "ticks": ""
            },
            "type": "contourcarpet"
           }
          ],
          "heatmap": [
           {
            "colorbar": {
             "outlinewidth": 0,
             "ticks": ""
            },
            "colorscale": [
             [
              0,
              "#0d0887"
             ],
             [
              0.1111111111111111,
              "#46039f"
             ],
             [
              0.2222222222222222,
              "#7201a8"
             ],
             [
              0.3333333333333333,
              "#9c179e"
             ],
             [
              0.4444444444444444,
              "#bd3786"
             ],
             [
              0.5555555555555556,
              "#d8576b"
             ],
             [
              0.6666666666666666,
              "#ed7953"
             ],
             [
              0.7777777777777778,
              "#fb9f3a"
             ],
             [
              0.8888888888888888,
              "#fdca26"
             ],
             [
              1,
              "#f0f921"
             ]
            ],
            "type": "heatmap"
           }
          ],
          "histogram": [
           {
            "marker": {
             "pattern": {
              "fillmode": "overlay",
              "size": 10,
              "solidity": 0.2
             }
            },
            "type": "histogram"
           }
          ],
          "histogram2d": [
           {
            "colorbar": {
             "outlinewidth": 0,
             "ticks": ""
            },
            "colorscale": [
             [
              0,
              "#0d0887"
             ],
             [
              0.1111111111111111,
              "#46039f"
             ],
             [
              0.2222222222222222,
              "#7201a8"
             ],
             [
              0.3333333333333333,
              "#9c179e"
             ],
             [
              0.4444444444444444,
              "#bd3786"
             ],
             [
              0.5555555555555556,
              "#d8576b"
             ],
             [
              0.6666666666666666,
              "#ed7953"
             ],
             [
              0.7777777777777778,
              "#fb9f3a"
             ],
             [
              0.8888888888888888,
              "#fdca26"
             ],
             [
              1,
              "#f0f921"
             ]
            ],
            "type": "histogram2d"
           }
          ],
          "histogram2dcontour": [
           {
            "colorbar": {
             "outlinewidth": 0,
             "ticks": ""
            },
            "colorscale": [
             [
              0,
              "#0d0887"
             ],
             [
              0.1111111111111111,
              "#46039f"
             ],
             [
              0.2222222222222222,
              "#7201a8"
             ],
             [
              0.3333333333333333,
              "#9c179e"
             ],
             [
              0.4444444444444444,
              "#bd3786"
             ],
             [
              0.5555555555555556,
              "#d8576b"
             ],
             [
              0.6666666666666666,
              "#ed7953"
             ],
             [
              0.7777777777777778,
              "#fb9f3a"
             ],
             [
              0.8888888888888888,
              "#fdca26"
             ],
             [
              1,
              "#f0f921"
             ]
            ],
            "type": "histogram2dcontour"
           }
          ],
          "mesh3d": [
           {
            "colorbar": {
             "outlinewidth": 0,
             "ticks": ""
            },
            "type": "mesh3d"
           }
          ],
          "parcoords": [
           {
            "line": {
             "colorbar": {
              "outlinewidth": 0,
              "ticks": ""
             }
            },
            "type": "parcoords"
           }
          ],
          "pie": [
           {
            "automargin": true,
            "type": "pie"
           }
          ],
          "scatter": [
           {
            "fillpattern": {
             "fillmode": "overlay",
             "size": 10,
             "solidity": 0.2
            },
            "type": "scatter"
           }
          ],
          "scatter3d": [
           {
            "line": {
             "colorbar": {
              "outlinewidth": 0,
              "ticks": ""
             }
            },
            "marker": {
             "colorbar": {
              "outlinewidth": 0,
              "ticks": ""
             }
            },
            "type": "scatter3d"
           }
          ],
          "scattercarpet": [
           {
            "marker": {
             "colorbar": {
              "outlinewidth": 0,
              "ticks": ""
             }
            },
            "type": "scattercarpet"
           }
          ],
          "scattergeo": [
           {
            "marker": {
             "colorbar": {
              "outlinewidth": 0,
              "ticks": ""
             }
            },
            "type": "scattergeo"
           }
          ],
          "scattergl": [
           {
            "marker": {
             "colorbar": {
              "outlinewidth": 0,
              "ticks": ""
             }
            },
            "type": "scattergl"
           }
          ],
          "scattermap": [
           {
            "marker": {
             "colorbar": {
              "outlinewidth": 0,
              "ticks": ""
             }
            },
            "type": "scattermap"
           }
          ],
          "scattermapbox": [
           {
            "marker": {
             "colorbar": {
              "outlinewidth": 0,
              "ticks": ""
             }
            },
            "type": "scattermapbox"
           }
          ],
          "scatterpolar": [
           {
            "marker": {
             "colorbar": {
              "outlinewidth": 0,
              "ticks": ""
             }
            },
            "type": "scatterpolar"
           }
          ],
          "scatterpolargl": [
           {
            "marker": {
             "colorbar": {
              "outlinewidth": 0,
              "ticks": ""
             }
            },
            "type": "scatterpolargl"
           }
          ],
          "scatterternary": [
           {
            "marker": {
             "colorbar": {
              "outlinewidth": 0,
              "ticks": ""
             }
            },
            "type": "scatterternary"
           }
          ],
          "surface": [
           {
            "colorbar": {
             "outlinewidth": 0,
             "ticks": ""
            },
            "colorscale": [
             [
              0,
              "#0d0887"
             ],
             [
              0.1111111111111111,
              "#46039f"
             ],
             [
              0.2222222222222222,
              "#7201a8"
             ],
             [
              0.3333333333333333,
              "#9c179e"
             ],
             [
              0.4444444444444444,
              "#bd3786"
             ],
             [
              0.5555555555555556,
              "#d8576b"
             ],
             [
              0.6666666666666666,
              "#ed7953"
             ],
             [
              0.7777777777777778,
              "#fb9f3a"
             ],
             [
              0.8888888888888888,
              "#fdca26"
             ],
             [
              1,
              "#f0f921"
             ]
            ],
            "type": "surface"
           }
          ],
          "table": [
           {
            "cells": {
             "fill": {
              "color": "#EBF0F8"
             },
             "line": {
              "color": "white"
             }
            },
            "header": {
             "fill": {
              "color": "#C8D4E3"
             },
             "line": {
              "color": "white"
             }
            },
            "type": "table"
           }
          ]
         },
         "layout": {
          "annotationdefaults": {
           "arrowcolor": "#2a3f5f",
           "arrowhead": 0,
           "arrowwidth": 1
          },
          "autotypenumbers": "strict",
          "coloraxis": {
           "colorbar": {
            "outlinewidth": 0,
            "ticks": ""
           }
          },
          "colorscale": {
           "diverging": [
            [
             0,
             "#8e0152"
            ],
            [
             0.1,
             "#c51b7d"
            ],
            [
             0.2,
             "#de77ae"
            ],
            [
             0.3,
             "#f1b6da"
            ],
            [
             0.4,
             "#fde0ef"
            ],
            [
             0.5,
             "#f7f7f7"
            ],
            [
             0.6,
             "#e6f5d0"
            ],
            [
             0.7,
             "#b8e186"
            ],
            [
             0.8,
             "#7fbc41"
            ],
            [
             0.9,
             "#4d9221"
            ],
            [
             1,
             "#276419"
            ]
           ],
           "sequential": [
            [
             0,
             "#0d0887"
            ],
            [
             0.1111111111111111,
             "#46039f"
            ],
            [
             0.2222222222222222,
             "#7201a8"
            ],
            [
             0.3333333333333333,
             "#9c179e"
            ],
            [
             0.4444444444444444,
             "#bd3786"
            ],
            [
             0.5555555555555556,
             "#d8576b"
            ],
            [
             0.6666666666666666,
             "#ed7953"
            ],
            [
             0.7777777777777778,
             "#fb9f3a"
            ],
            [
             0.8888888888888888,
             "#fdca26"
            ],
            [
             1,
             "#f0f921"
            ]
           ],
           "sequentialminus": [
            [
             0,
             "#0d0887"
            ],
            [
             0.1111111111111111,
             "#46039f"
            ],
            [
             0.2222222222222222,
             "#7201a8"
            ],
            [
             0.3333333333333333,
             "#9c179e"
            ],
            [
             0.4444444444444444,
             "#bd3786"
            ],
            [
             0.5555555555555556,
             "#d8576b"
            ],
            [
             0.6666666666666666,
             "#ed7953"
            ],
            [
             0.7777777777777778,
             "#fb9f3a"
            ],
            [
             0.8888888888888888,
             "#fdca26"
            ],
            [
             1,
             "#f0f921"
            ]
           ]
          },
          "colorway": [
           "#636efa",
           "#EF553B",
           "#00cc96",
           "#ab63fa",
           "#FFA15A",
           "#19d3f3",
           "#FF6692",
           "#B6E880",
           "#FF97FF",
           "#FECB52"
          ],
          "font": {
           "color": "#2a3f5f"
          },
          "geo": {
           "bgcolor": "white",
           "lakecolor": "white",
           "landcolor": "#E5ECF6",
           "showlakes": true,
           "showland": true,
           "subunitcolor": "white"
          },
          "hoverlabel": {
           "align": "left"
          },
          "hovermode": "closest",
          "mapbox": {
           "style": "light"
          },
          "paper_bgcolor": "white",
          "plot_bgcolor": "#E5ECF6",
          "polar": {
           "angularaxis": {
            "gridcolor": "white",
            "linecolor": "white",
            "ticks": ""
           },
           "bgcolor": "#E5ECF6",
           "radialaxis": {
            "gridcolor": "white",
            "linecolor": "white",
            "ticks": ""
           }
          },
          "scene": {
           "xaxis": {
            "backgroundcolor": "#E5ECF6",
            "gridcolor": "white",
            "gridwidth": 2,
            "linecolor": "white",
            "showbackground": true,
            "ticks": "",
            "zerolinecolor": "white"
           },
           "yaxis": {
            "backgroundcolor": "#E5ECF6",
            "gridcolor": "white",
            "gridwidth": 2,
            "linecolor": "white",
            "showbackground": true,
            "ticks": "",
            "zerolinecolor": "white"
           },
           "zaxis": {
            "backgroundcolor": "#E5ECF6",
            "gridcolor": "white",
            "gridwidth": 2,
            "linecolor": "white",
            "showbackground": true,
            "ticks": "",
            "zerolinecolor": "white"
           }
          },
          "shapedefaults": {
           "line": {
            "color": "#2a3f5f"
           }
          },
          "ternary": {
           "aaxis": {
            "gridcolor": "white",
            "linecolor": "white",
            "ticks": ""
           },
           "baxis": {
            "gridcolor": "white",
            "linecolor": "white",
            "ticks": ""
           },
           "bgcolor": "#E5ECF6",
           "caxis": {
            "gridcolor": "white",
            "linecolor": "white",
            "ticks": ""
           }
          },
          "title": {
           "x": 0.05
          },
          "xaxis": {
           "automargin": true,
           "gridcolor": "white",
           "linecolor": "white",
           "ticks": "",
           "title": {
            "standoff": 15
           },
           "zerolinecolor": "white",
           "zerolinewidth": 2
          },
          "yaxis": {
           "automargin": true,
           "gridcolor": "white",
           "linecolor": "white",
           "ticks": "",
           "title": {
            "standoff": 15
           },
           "zerolinecolor": "white",
           "zerolinewidth": 2
          }
         }
        },
        "title": {
         "text": "Total Sales by Category"
        },
        "uniformtext": {
         "minsize": 8,
         "mode": "hide"
        },
        "xaxis": {
         "anchor": "y",
         "domain": [
          0,
          1
         ],
         "tickangle": -45,
         "title": {
          "text": "Category"
         }
        },
        "yaxis": {
         "anchor": "x",
         "domain": [
          0,
          1
         ],
         "title": {
          "text": "Total Sales"
         }
        }
       }
      }
     },
     "metadata": {},
     "output_type": "display_data"
    },
    {
     "data": {
      "application/vnd.plotly.v1+json": {
       "config": {
        "plotlyServerURL": "https://plot.ly"
       },
       "data": [
        {
         "hovertemplate": "StockQuantity=%{marker.color}<br>ProductName=%{y}<extra></extra>",
         "legendgroup": "",
         "marker": {
          "color": {
           "bdata": "CgAKAA0ADwAPABQAFAAZAB0AHgAiACgALQAyADIAMgAyADIAMgAyADIAMgAyADIAMgAyADIAMgAyADIAMgAyADIAMgAyADIAMgAyADIAMgAyADIAMgAyADIAMgAyADIAMgAyADIAMgAyADIAMgAyADIAMgAyADIAMgAyADIAMgAyADIAMgAyADwAQwBDAE4AVwBiAF4B",
           "dtype": "i2"
          },
          "coloraxis": "coloraxis",
          "pattern": {
           "shape": ""
          }
         },
         "name": "",
         "orientation": "h",
         "showlegend": false,
         "text": {
          "bdata": "AAAAAAAAJEAAAAAAAAAkQAAAAAAAACpAAAAAAAAALkAAAAAAAAAuQAAAAAAAADRAAAAAAAAANEAAAAAAAAA5QAAAAAAAAD1AAAAAAAAAPkAAAAAAAABBQAAAAAAAAERAAAAAAACARkAAAAAAAABJQAAAAAAAAElAAAAAAAAASUAAAAAAAABJQAAAAAAAAElAAAAAAAAASUAAAAAAAABJQAAAAAAAAElAAAAAAAAASUAAAAAAAABJQAAAAAAAAElAAAAAAAAASUAAAAAAAABJQAAAAAAAAElAAAAAAAAASUAAAAAAAABJQAAAAAAAAElAAAAAAAAASUAAAAAAAABJQAAAAAAAAElAAAAAAAAASUAAAAAAAABJQAAAAAAAAElAAAAAAAAASUAAAAAAAABJQAAAAAAAAElAAAAAAAAASUAAAAAAAABJQAAAAAAAAElAAAAAAAAASUAAAAAAAABJQAAAAAAAAElAAAAAAAAASUAAAAAAAABJQAAAAAAAAElAAAAAAAAASUAAAAAAAABJQAAAAAAAAElAAAAAAAAASUAAAAAAAABJQAAAAAAAAElAAAAAAAAASUAAAAAAAABJQAAAAAAAAElAAAAAAAAASUAAAAAAAABJQAAAAAAAAElAAAAAAAAASUAAAAAAAABJQAAAAAAAAElAAAAAAAAASUAAAAAAAABJQAAAAAAAAElAAAAAAAAASUAAAAAAAABJQAAAAAAAAE5AAAAAAADAUEAAAAAAAMBQQAAAAAAAgFNAAAAAAADAVUAAAAAAAIBYQAAAAAAA4HVA",
          "dtype": "f8"
         },
         "textposition": "outside",
         "texttemplate": "%{text}",
         "type": "bar",
         "x": {
          "bdata": "CgAKAA0ADwAPABQAFAAZAB0AHgAiACgALQAyADIAMgAyADIAMgAyADIAMgAyADIAMgAyADIAMgAyADIAMgAyADIAMgAyADIAMgAyADIAMgAyADIAMgAyADIAMgAyADIAMgAyADIAMgAyADIAMgAyADIAMgAyADIAMgAyADIAMgAyADIAMgAyADwAQwBDAE4AVwBiAF4B",
          "dtype": "i2"
         },
         "xaxis": "x",
         "y": [
          "Laptop i5 Max",
          "Refrigerator 300L",
          "Camera DSLR 24MP",
          "Rice Cooker Deluxe",
          "Smartphone Pro X",
          "Microwave Oven 20L",
          "LED TV 42\"",
          "Bluetooth Speaker Plus",
          "Tennis Racket Pro",
          "Gaming Keyboard Pro",
          "Juicer 500W",
          "Electric Kettle 1.7L",
          "Face Wash Sensitive",
          "Coffee Beans 500g",
          "Dumbbell Set 20kg",
          "Coffee Table Wooden",
          "Knife Set Stainless Steel",
          "External Hard Drive 1TB",
          "Earphones Wireless",
          "Envelope Pack 100",
          "Dining Table Set",
          "HDMI Cable 2m",
          "Filing Cabinet Steel",
          "Football Size 5",
          "Laptop Stand Adjustable",
          "Hand Soap Liquid",
          "Hair Dryer 2000W",
          "Jacket Waterproof",
          "Bookshelf 5-Tier",
          "Calculator Casio FX-991EX",
          "Chocolate Bar 100g",
          "Body Lotion 250ml",
          "Printer Ink Black",
          "Router Wi-Fi 6",
          "Keyboard Mechanical",
          "Lunch Box Plastic",
          "Mouse Pad Large",
          "Non-stick Frying Pan 28cm",
          "Mineral Water 1.5L",
          "Marker Permanent",
          "Office Chair Ergonomic",
          "Notebook A4 200pg",
          "Orange Juice 1L",
          "Paper Ream A4",
          "Power Bank 20000mAh",
          "Pen Gel Pack",
          "Printer Ink Color",
          "Monitor 32\" LED",
          "Sofa 3-Seater",
          "Speaker Portable",
          "Scanner Sheetfed",
          "Running Shoes AirZoom",
          "Shampoo 500ml",
          "Shoes Leather",
          "Smart LED Lamp",
          "Smartwatch Series 5",
          "Tablet 10\"",
          "Sticky Notes 100s",
          "Standing Desk 120cm",
          "Stapler Heavy Duty",
          "Tripod 1.5m",
          "Treadmill Basic",
          "Toaster 2-Slice",
          "Blender 1.5L",
          "Umbrella Foldable",
          "USB Flash Drive 64GB",
          "Wireless Mouse X",
          "Whiteboard Marker",
          "Toothpaste Gel",
          "Yoga Mat Non-Slip",
          "Desk Lamp LED",
          "Green Tea 100g",
          "Sunglasses UV Protection",
          "Water Bottle 1L",
          "Socks Cotton Pack"
         ],
         "yaxis": "y"
        }
       ],
       "layout": {
        "barmode": "relative",
        "coloraxis": {
         "colorbar": {
          "title": {
           "text": "StockQuantity"
          }
         },
         "colorscale": [
          [
           0,
           "#000004"
          ],
          [
           0.1111111111111111,
           "#180f3d"
          ],
          [
           0.2222222222222222,
           "#440f76"
          ],
          [
           0.3333333333333333,
           "#721f81"
          ],
          [
           0.4444444444444444,
           "#9e2f7f"
          ],
          [
           0.5555555555555556,
           "#cd4071"
          ],
          [
           0.6666666666666666,
           "#f1605d"
          ],
          [
           0.7777777777777778,
           "#fd9668"
          ],
          [
           0.8888888888888888,
           "#feca8d"
          ],
          [
           1,
           "#fcfdbf"
          ]
         ]
        },
        "hovermode": "y unified",
        "legend": {
         "tracegroupgap": 0
        },
        "margin": {
         "b": 60,
         "l": 200,
         "r": 40,
         "t": 80
        },
        "template": {
         "data": {
          "bar": [
           {
            "error_x": {
             "color": "#2a3f5f"
            },
            "error_y": {
             "color": "#2a3f5f"
            },
            "marker": {
             "line": {
              "color": "#E5ECF6",
              "width": 0.5
             },
             "pattern": {
              "fillmode": "overlay",
              "size": 10,
              "solidity": 0.2
             }
            },
            "type": "bar"
           }
          ],
          "barpolar": [
           {
            "marker": {
             "line": {
              "color": "#E5ECF6",
              "width": 0.5
             },
             "pattern": {
              "fillmode": "overlay",
              "size": 10,
              "solidity": 0.2
             }
            },
            "type": "barpolar"
           }
          ],
          "carpet": [
           {
            "aaxis": {
             "endlinecolor": "#2a3f5f",
             "gridcolor": "white",
             "linecolor": "white",
             "minorgridcolor": "white",
             "startlinecolor": "#2a3f5f"
            },
            "baxis": {
             "endlinecolor": "#2a3f5f",
             "gridcolor": "white",
             "linecolor": "white",
             "minorgridcolor": "white",
             "startlinecolor": "#2a3f5f"
            },
            "type": "carpet"
           }
          ],
          "choropleth": [
           {
            "colorbar": {
             "outlinewidth": 0,
             "ticks": ""
            },
            "type": "choropleth"
           }
          ],
          "contour": [
           {
            "colorbar": {
             "outlinewidth": 0,
             "ticks": ""
            },
            "colorscale": [
             [
              0,
              "#0d0887"
             ],
             [
              0.1111111111111111,
              "#46039f"
             ],
             [
              0.2222222222222222,
              "#7201a8"
             ],
             [
              0.3333333333333333,
              "#9c179e"
             ],
             [
              0.4444444444444444,
              "#bd3786"
             ],
             [
              0.5555555555555556,
              "#d8576b"
             ],
             [
              0.6666666666666666,
              "#ed7953"
             ],
             [
              0.7777777777777778,
              "#fb9f3a"
             ],
             [
              0.8888888888888888,
              "#fdca26"
             ],
             [
              1,
              "#f0f921"
             ]
            ],
            "type": "contour"
           }
          ],
          "contourcarpet": [
           {
            "colorbar": {
             "outlinewidth": 0,
             "ticks": ""
            },
            "type": "contourcarpet"
           }
          ],
          "heatmap": [
           {
            "colorbar": {
             "outlinewidth": 0,
             "ticks": ""
            },
            "colorscale": [
             [
              0,
              "#0d0887"
             ],
             [
              0.1111111111111111,
              "#46039f"
             ],
             [
              0.2222222222222222,
              "#7201a8"
             ],
             [
              0.3333333333333333,
              "#9c179e"
             ],
             [
              0.4444444444444444,
              "#bd3786"
             ],
             [
              0.5555555555555556,
              "#d8576b"
             ],
             [
              0.6666666666666666,
              "#ed7953"
             ],
             [
              0.7777777777777778,
              "#fb9f3a"
             ],
             [
              0.8888888888888888,
              "#fdca26"
             ],
             [
              1,
              "#f0f921"
             ]
            ],
            "type": "heatmap"
           }
          ],
          "histogram": [
           {
            "marker": {
             "pattern": {
              "fillmode": "overlay",
              "size": 10,
              "solidity": 0.2
             }
            },
            "type": "histogram"
           }
          ],
          "histogram2d": [
           {
            "colorbar": {
             "outlinewidth": 0,
             "ticks": ""
            },
            "colorscale": [
             [
              0,
              "#0d0887"
             ],
             [
              0.1111111111111111,
              "#46039f"
             ],
             [
              0.2222222222222222,
              "#7201a8"
             ],
             [
              0.3333333333333333,
              "#9c179e"
             ],
             [
              0.4444444444444444,
              "#bd3786"
             ],
             [
              0.5555555555555556,
              "#d8576b"
             ],
             [
              0.6666666666666666,
              "#ed7953"
             ],
             [
              0.7777777777777778,
              "#fb9f3a"
             ],
             [
              0.8888888888888888,
              "#fdca26"
             ],
             [
              1,
              "#f0f921"
             ]
            ],
            "type": "histogram2d"
           }
          ],
          "histogram2dcontour": [
           {
            "colorbar": {
             "outlinewidth": 0,
             "ticks": ""
            },
            "colorscale": [
             [
              0,
              "#0d0887"
             ],
             [
              0.1111111111111111,
              "#46039f"
             ],
             [
              0.2222222222222222,
              "#7201a8"
             ],
             [
              0.3333333333333333,
              "#9c179e"
             ],
             [
              0.4444444444444444,
              "#bd3786"
             ],
             [
              0.5555555555555556,
              "#d8576b"
             ],
             [
              0.6666666666666666,
              "#ed7953"
             ],
             [
              0.7777777777777778,
              "#fb9f3a"
             ],
             [
              0.8888888888888888,
              "#fdca26"
             ],
             [
              1,
              "#f0f921"
             ]
            ],
            "type": "histogram2dcontour"
           }
          ],
          "mesh3d": [
           {
            "colorbar": {
             "outlinewidth": 0,
             "ticks": ""
            },
            "type": "mesh3d"
           }
          ],
          "parcoords": [
           {
            "line": {
             "colorbar": {
              "outlinewidth": 0,
              "ticks": ""
             }
            },
            "type": "parcoords"
           }
          ],
          "pie": [
           {
            "automargin": true,
            "type": "pie"
           }
          ],
          "scatter": [
           {
            "fillpattern": {
             "fillmode": "overlay",
             "size": 10,
             "solidity": 0.2
            },
            "type": "scatter"
           }
          ],
          "scatter3d": [
           {
            "line": {
             "colorbar": {
              "outlinewidth": 0,
              "ticks": ""
             }
            },
            "marker": {
             "colorbar": {
              "outlinewidth": 0,
              "ticks": ""
             }
            },
            "type": "scatter3d"
           }
          ],
          "scattercarpet": [
           {
            "marker": {
             "colorbar": {
              "outlinewidth": 0,
              "ticks": ""
             }
            },
            "type": "scattercarpet"
           }
          ],
          "scattergeo": [
           {
            "marker": {
             "colorbar": {
              "outlinewidth": 0,
              "ticks": ""
             }
            },
            "type": "scattergeo"
           }
          ],
          "scattergl": [
           {
            "marker": {
             "colorbar": {
              "outlinewidth": 0,
              "ticks": ""
             }
            },
            "type": "scattergl"
           }
          ],
          "scattermap": [
           {
            "marker": {
             "colorbar": {
              "outlinewidth": 0,
              "ticks": ""
             }
            },
            "type": "scattermap"
           }
          ],
          "scattermapbox": [
           {
            "marker": {
             "colorbar": {
              "outlinewidth": 0,
              "ticks": ""
             }
            },
            "type": "scattermapbox"
           }
          ],
          "scatterpolar": [
           {
            "marker": {
             "colorbar": {
              "outlinewidth": 0,
              "ticks": ""
             }
            },
            "type": "scatterpolar"
           }
          ],
          "scatterpolargl": [
           {
            "marker": {
             "colorbar": {
              "outlinewidth": 0,
              "ticks": ""
             }
            },
            "type": "scatterpolargl"
           }
          ],
          "scatterternary": [
           {
            "marker": {
             "colorbar": {
              "outlinewidth": 0,
              "ticks": ""
             }
            },
            "type": "scatterternary"
           }
          ],
          "surface": [
           {
            "colorbar": {
             "outlinewidth": 0,
             "ticks": ""
            },
            "colorscale": [
             [
              0,
              "#0d0887"
             ],
             [
              0.1111111111111111,
              "#46039f"
             ],
             [
              0.2222222222222222,
              "#7201a8"
             ],
             [
              0.3333333333333333,
              "#9c179e"
             ],
             [
              0.4444444444444444,
              "#bd3786"
             ],
             [
              0.5555555555555556,
              "#d8576b"
             ],
             [
              0.6666666666666666,
              "#ed7953"
             ],
             [
              0.7777777777777778,
              "#fb9f3a"
             ],
             [
              0.8888888888888888,
              "#fdca26"
             ],
             [
              1,
              "#f0f921"
             ]
            ],
            "type": "surface"
           }
          ],
          "table": [
           {
            "cells": {
             "fill": {
              "color": "#EBF0F8"
             },
             "line": {
              "color": "white"
             }
            },
            "header": {
             "fill": {
              "color": "#C8D4E3"
             },
             "line": {
              "color": "white"
             }
            },
            "type": "table"
           }
          ]
         },
         "layout": {
          "annotationdefaults": {
           "arrowcolor": "#2a3f5f",
           "arrowhead": 0,
           "arrowwidth": 1
          },
          "autotypenumbers": "strict",
          "coloraxis": {
           "colorbar": {
            "outlinewidth": 0,
            "ticks": ""
           }
          },
          "colorscale": {
           "diverging": [
            [
             0,
             "#8e0152"
            ],
            [
             0.1,
             "#c51b7d"
            ],
            [
             0.2,
             "#de77ae"
            ],
            [
             0.3,
             "#f1b6da"
            ],
            [
             0.4,
             "#fde0ef"
            ],
            [
             0.5,
             "#f7f7f7"
            ],
            [
             0.6,
             "#e6f5d0"
            ],
            [
             0.7,
             "#b8e186"
            ],
            [
             0.8,
             "#7fbc41"
            ],
            [
             0.9,
             "#4d9221"
            ],
            [
             1,
             "#276419"
            ]
           ],
           "sequential": [
            [
             0,
             "#0d0887"
            ],
            [
             0.1111111111111111,
             "#46039f"
            ],
            [
             0.2222222222222222,
             "#7201a8"
            ],
            [
             0.3333333333333333,
             "#9c179e"
            ],
            [
             0.4444444444444444,
             "#bd3786"
            ],
            [
             0.5555555555555556,
             "#d8576b"
            ],
            [
             0.6666666666666666,
             "#ed7953"
            ],
            [
             0.7777777777777778,
             "#fb9f3a"
            ],
            [
             0.8888888888888888,
             "#fdca26"
            ],
            [
             1,
             "#f0f921"
            ]
           ],
           "sequentialminus": [
            [
             0,
             "#0d0887"
            ],
            [
             0.1111111111111111,
             "#46039f"
            ],
            [
             0.2222222222222222,
             "#7201a8"
            ],
            [
             0.3333333333333333,
             "#9c179e"
            ],
            [
             0.4444444444444444,
             "#bd3786"
            ],
            [
             0.5555555555555556,
             "#d8576b"
            ],
            [
             0.6666666666666666,
             "#ed7953"
            ],
            [
             0.7777777777777778,
             "#fb9f3a"
            ],
            [
             0.8888888888888888,
             "#fdca26"
            ],
            [
             1,
             "#f0f921"
            ]
           ]
          },
          "colorway": [
           "#636efa",
           "#EF553B",
           "#00cc96",
           "#ab63fa",
           "#FFA15A",
           "#19d3f3",
           "#FF6692",
           "#B6E880",
           "#FF97FF",
           "#FECB52"
          ],
          "font": {
           "color": "#2a3f5f"
          },
          "geo": {
           "bgcolor": "white",
           "lakecolor": "white",
           "landcolor": "#E5ECF6",
           "showlakes": true,
           "showland": true,
           "subunitcolor": "white"
          },
          "hoverlabel": {
           "align": "left"
          },
          "hovermode": "closest",
          "mapbox": {
           "style": "light"
          },
          "paper_bgcolor": "white",
          "plot_bgcolor": "#E5ECF6",
          "polar": {
           "angularaxis": {
            "gridcolor": "white",
            "linecolor": "white",
            "ticks": ""
           },
           "bgcolor": "#E5ECF6",
           "radialaxis": {
            "gridcolor": "white",
            "linecolor": "white",
            "ticks": ""
           }
          },
          "scene": {
           "xaxis": {
            "backgroundcolor": "#E5ECF6",
            "gridcolor": "white",
            "gridwidth": 2,
            "linecolor": "white",
            "showbackground": true,
            "ticks": "",
            "zerolinecolor": "white"
           },
           "yaxis": {
            "backgroundcolor": "#E5ECF6",
            "gridcolor": "white",
            "gridwidth": 2,
            "linecolor": "white",
            "showbackground": true,
            "ticks": "",
            "zerolinecolor": "white"
           },
           "zaxis": {
            "backgroundcolor": "#E5ECF6",
            "gridcolor": "white",
            "gridwidth": 2,
            "linecolor": "white",
            "showbackground": true,
            "ticks": "",
            "zerolinecolor": "white"
           }
          },
          "shapedefaults": {
           "line": {
            "color": "#2a3f5f"
           }
          },
          "ternary": {
           "aaxis": {
            "gridcolor": "white",
            "linecolor": "white",
            "ticks": ""
           },
           "baxis": {
            "gridcolor": "white",
            "linecolor": "white",
            "ticks": ""
           },
           "bgcolor": "#E5ECF6",
           "caxis": {
            "gridcolor": "white",
            "linecolor": "white",
            "ticks": ""
           }
          },
          "title": {
           "x": 0.05
          },
          "xaxis": {
           "automargin": true,
           "gridcolor": "white",
           "linecolor": "white",
           "ticks": "",
           "title": {
            "standoff": 15
           },
           "zerolinecolor": "white",
           "zerolinewidth": 2
          },
          "yaxis": {
           "automargin": true,
           "gridcolor": "white",
           "linecolor": "white",
           "ticks": "",
           "title": {
            "standoff": 15
           },
           "zerolinecolor": "white",
           "zerolinewidth": 2
          }
         }
        },
        "title": {
         "text": "Stock Levels by Product"
        },
        "xaxis": {
         "anchor": "y",
         "domain": [
          0,
          1
         ],
         "title": {
          "text": "Stock Quantity"
         }
        },
        "yaxis": {
         "anchor": "x",
         "domain": [
          0,
          1
         ],
         "title": {
          "text": "Product"
         }
        }
       }
      }
     },
     "metadata": {},
     "output_type": "display_data"
    },
    {
     "data": {
      "application/vnd.plotly.v1+json": {
       "config": {
        "plotlyServerURL": "https://plot.ly"
       },
       "data": [
        {
         "hovertemplate": "Date: %{x|%Y-%m-%d}<br>Sales: %{y:.2f}<extra></extra>",
         "line": {
          "color": "blue",
          "width": 2
         },
         "marker": {
          "color": "orange",
          "size": 6
         },
         "mode": "lines+markers",
         "name": "Daily Sales",
         "type": "scatter",
         "x": [
          "2025-01-02T00:00:00.000000000",
          "2025-01-05T00:00:00.000000000",
          "2025-01-07T00:00:00.000000000",
          "2025-01-10T00:00:00.000000000",
          "2025-01-12T00:00:00.000000000",
          "2025-01-15T00:00:00.000000000",
          "2025-01-18T00:00:00.000000000",
          "2025-01-21T00:00:00.000000000",
          "2025-01-25T00:00:00.000000000",
          "2025-01-28T00:00:00.000000000",
          "2025-02-01T00:00:00.000000000",
          "2025-02-03T00:00:00.000000000",
          "2025-02-07T00:00:00.000000000",
          "2025-02-10T00:00:00.000000000",
          "2025-02-12T00:00:00.000000000",
          "2025-02-14T00:00:00.000000000",
          "2025-02-18T00:00:00.000000000",
          "2025-02-20T00:00:00.000000000",
          "2025-02-22T00:00:00.000000000",
          "2025-03-01T00:00:00.000000000",
          "2025-03-04T00:00:00.000000000",
          "2025-03-05T00:00:00.000000000",
          "2025-03-09T00:00:00.000000000",
          "2025-03-12T00:00:00.000000000",
          "2025-03-15T00:00:00.000000000",
          "2025-03-18T00:00:00.000000000",
          "2025-03-20T00:00:00.000000000",
          "2025-03-23T00:00:00.000000000",
          "2025-03-25T00:00:00.000000000",
          "2025-04-01T00:00:00.000000000",
          "2025-04-03T00:00:00.000000000",
          "2025-04-06T00:00:00.000000000",
          "2025-04-09T00:00:00.000000000",
          "2025-04-12T00:00:00.000000000",
          "2025-04-15T00:00:00.000000000",
          "2025-04-18T00:00:00.000000000",
          "2025-04-20T00:00:00.000000000",
          "2025-05-01T00:00:00.000000000",
          "2025-05-03T00:00:00.000000000",
          "2025-05-05T00:00:00.000000000",
          "2025-05-08T00:00:00.000000000",
          "2025-05-10T00:00:00.000000000",
          "2025-05-12T00:00:00.000000000",
          "2025-05-15T00:00:00.000000000",
          "2025-05-18T00:00:00.000000000",
          "2025-06-01T00:00:00.000000000",
          "2025-06-03T00:00:00.000000000",
          "2025-06-05T00:00:00.000000000",
          "2025-06-07T00:00:00.000000000",
          "2025-06-10T00:00:00.000000000",
          "2025-06-12T00:00:00.000000000",
          "2025-06-15T00:00:00.000000000",
          "2025-06-18T00:00:00.000000000",
          "2025-07-01T00:00:00.000000000",
          "2025-07-04T00:00:00.000000000",
          "2025-07-06T00:00:00.000000000",
          "2025-07-09T00:00:00.000000000",
          "2025-07-12T00:00:00.000000000",
          "2025-07-15T00:00:00.000000000",
          "2025-07-18T00:00:00.000000000",
          "2025-07-20T00:00:00.000000000",
          "2025-08-01T00:00:00.000000000",
          "2025-08-03T00:00:00.000000000",
          "2025-08-05T00:00:00.000000000",
          "2025-08-07T00:00:00.000000000",
          "2025-08-10T00:00:00.000000000",
          "2025-08-12T00:00:00.000000000",
          "2025-08-15T00:00:00.000000000",
          "2025-08-18T00:00:00.000000000",
          "2025-09-01T00:00:00.000000000",
          "2025-09-05T00:00:00.000000000"
         ],
         "y": {
          "bdata": "MzMzMzPblkAAAAAAACqHQJqZmZmZGWFAAAAAAAAgQ0AAAAAAADCCQAAAAAAAgGZAAAAAAACAS0AAAAAAAMBCQAAAAAAAAAhAAAAAAAAAEkAAAAAAAAAYQAAAAAAAQDRAZmZmZmZmKkAAAAAAAAAoQAAAAAAAAPg/AAAAAAAA6D8AAAAAAAASQAAAAAAAAAhAAAAAAAAAHkAAAAAAAAD4PzMzMzMzM/M/mpmZmZmZK0AAAAAAAAAyQAAAAAAAAEVAAAAAAADAYkAAAAAAACBsQAAAAAAAUFRAAAAAAABYe0AAAAAAAMBiQAAAAAAAiHNAAAAAAACwU0AAAAAAAABWQGZmZmZmBm1AAAAAAAAAckAAAAAAAIBzQAAAAAAAAGJAAAAAAAD4gUAAAAAAAJBVQAAAAAAAADdAAAAAAADAV0AAAAAAAIBZQAAAAAAAwGpAAAAAAACgb0AAAAAAAEBxQAAAAAAAoE9AZmZmZmZmIkAAAAAAAPB+QAAAAAAAgDtAAAAAAABgV0AAAAAAAAAQQM3MzMzMzDBAAAAAAAAANEAAAAAAAAA5QAAAAAAAwGJAAAAAAAAAOUAAAAAAAAAUQAAAAAAAQENAAAAAAACAVkAAAAAAAEBRQAAAAAAAAARAAAAAAAAA+D/NzMzMzMzsPwAAAAAAAChAmpmZmZmZ2T8fhetRuB71PzMzMzMzMxNAAAAAAACwUkAAAAAAAIBGQAAAAAAAABBAAAAAAAAALkAAAAAAAGBCQA==",
          "dtype": "f8"
         }
        },
        {
         "marker": {
          "color": "red",
          "size": 12,
          "symbol": "diamond"
         },
         "mode": "markers+text",
         "name": "Peak",
         "text": [
          "Peak: 1462.80"
         ],
         "textfont": {
          "color": "black",
          "size": 12
         },
         "textposition": "top center",
         "type": "scatter",
         "x": [
          "2025-01-02T00:00:00"
         ],
         "y": [
          1462.8
         ]
        }
       ],
       "layout": {
        "height": 600,
        "hovermode": "x unified",
        "margin": {
         "b": 120,
         "l": 60,
         "r": 40,
         "t": 120
        },
        "template": {
         "data": {
          "bar": [
           {
            "error_x": {
             "color": "#2a3f5f"
            },
            "error_y": {
             "color": "#2a3f5f"
            },
            "marker": {
             "line": {
              "color": "#E5ECF6",
              "width": 0.5
             },
             "pattern": {
              "fillmode": "overlay",
              "size": 10,
              "solidity": 0.2
             }
            },
            "type": "bar"
           }
          ],
          "barpolar": [
           {
            "marker": {
             "line": {
              "color": "#E5ECF6",
              "width": 0.5
             },
             "pattern": {
              "fillmode": "overlay",
              "size": 10,
              "solidity": 0.2
             }
            },
            "type": "barpolar"
           }
          ],
          "carpet": [
           {
            "aaxis": {
             "endlinecolor": "#2a3f5f",
             "gridcolor": "white",
             "linecolor": "white",
             "minorgridcolor": "white",
             "startlinecolor": "#2a3f5f"
            },
            "baxis": {
             "endlinecolor": "#2a3f5f",
             "gridcolor": "white",
             "linecolor": "white",
             "minorgridcolor": "white",
             "startlinecolor": "#2a3f5f"
            },
            "type": "carpet"
           }
          ],
          "choropleth": [
           {
            "colorbar": {
             "outlinewidth": 0,
             "ticks": ""
            },
            "type": "choropleth"
           }
          ],
          "contour": [
           {
            "colorbar": {
             "outlinewidth": 0,
             "ticks": ""
            },
            "colorscale": [
             [
              0,
              "#0d0887"
             ],
             [
              0.1111111111111111,
              "#46039f"
             ],
             [
              0.2222222222222222,
              "#7201a8"
             ],
             [
              0.3333333333333333,
              "#9c179e"
             ],
             [
              0.4444444444444444,
              "#bd3786"
             ],
             [
              0.5555555555555556,
              "#d8576b"
             ],
             [
              0.6666666666666666,
              "#ed7953"
             ],
             [
              0.7777777777777778,
              "#fb9f3a"
             ],
             [
              0.8888888888888888,
              "#fdca26"
             ],
             [
              1,
              "#f0f921"
             ]
            ],
            "type": "contour"
           }
          ],
          "contourcarpet": [
           {
            "colorbar": {
             "outlinewidth": 0,
             "ticks": ""
            },
            "type": "contourcarpet"
           }
          ],
          "heatmap": [
           {
            "colorbar": {
             "outlinewidth": 0,
             "ticks": ""
            },
            "colorscale": [
             [
              0,
              "#0d0887"
             ],
             [
              0.1111111111111111,
              "#46039f"
             ],
             [
              0.2222222222222222,
              "#7201a8"
             ],
             [
              0.3333333333333333,
              "#9c179e"
             ],
             [
              0.4444444444444444,
              "#bd3786"
             ],
             [
              0.5555555555555556,
              "#d8576b"
             ],
             [
              0.6666666666666666,
              "#ed7953"
             ],
             [
              0.7777777777777778,
              "#fb9f3a"
             ],
             [
              0.8888888888888888,
              "#fdca26"
             ],
             [
              1,
              "#f0f921"
             ]
            ],
            "type": "heatmap"
           }
          ],
          "histogram": [
           {
            "marker": {
             "pattern": {
              "fillmode": "overlay",
              "size": 10,
              "solidity": 0.2
             }
            },
            "type": "histogram"
           }
          ],
          "histogram2d": [
           {
            "colorbar": {
             "outlinewidth": 0,
             "ticks": ""
            },
            "colorscale": [
             [
              0,
              "#0d0887"
             ],
             [
              0.1111111111111111,
              "#46039f"
             ],
             [
              0.2222222222222222,
              "#7201a8"
             ],
             [
              0.3333333333333333,
              "#9c179e"
             ],
             [
              0.4444444444444444,
              "#bd3786"
             ],
             [
              0.5555555555555556,
              "#d8576b"
             ],
             [
              0.6666666666666666,
              "#ed7953"
             ],
             [
              0.7777777777777778,
              "#fb9f3a"
             ],
             [
              0.8888888888888888,
              "#fdca26"
             ],
             [
              1,
              "#f0f921"
             ]
            ],
            "type": "histogram2d"
           }
          ],
          "histogram2dcontour": [
           {
            "colorbar": {
             "outlinewidth": 0,
             "ticks": ""
            },
            "colorscale": [
             [
              0,
              "#0d0887"
             ],
             [
              0.1111111111111111,
              "#46039f"
             ],
             [
              0.2222222222222222,
              "#7201a8"
             ],
             [
              0.3333333333333333,
              "#9c179e"
             ],
             [
              0.4444444444444444,
              "#bd3786"
             ],
             [
              0.5555555555555556,
              "#d8576b"
             ],
             [
              0.6666666666666666,
              "#ed7953"
             ],
             [
              0.7777777777777778,
              "#fb9f3a"
             ],
             [
              0.8888888888888888,
              "#fdca26"
             ],
             [
              1,
              "#f0f921"
             ]
            ],
            "type": "histogram2dcontour"
           }
          ],
          "mesh3d": [
           {
            "colorbar": {
             "outlinewidth": 0,
             "ticks": ""
            },
            "type": "mesh3d"
           }
          ],
          "parcoords": [
           {
            "line": {
             "colorbar": {
              "outlinewidth": 0,
              "ticks": ""
             }
            },
            "type": "parcoords"
           }
          ],
          "pie": [
           {
            "automargin": true,
            "type": "pie"
           }
          ],
          "scatter": [
           {
            "fillpattern": {
             "fillmode": "overlay",
             "size": 10,
             "solidity": 0.2
            },
            "type": "scatter"
           }
          ],
          "scatter3d": [
           {
            "line": {
             "colorbar": {
              "outlinewidth": 0,
              "ticks": ""
             }
            },
            "marker": {
             "colorbar": {
              "outlinewidth": 0,
              "ticks": ""
             }
            },
            "type": "scatter3d"
           }
          ],
          "scattercarpet": [
           {
            "marker": {
             "colorbar": {
              "outlinewidth": 0,
              "ticks": ""
             }
            },
            "type": "scattercarpet"
           }
          ],
          "scattergeo": [
           {
            "marker": {
             "colorbar": {
              "outlinewidth": 0,
              "ticks": ""
             }
            },
            "type": "scattergeo"
           }
          ],
          "scattergl": [
           {
            "marker": {
             "colorbar": {
              "outlinewidth": 0,
              "ticks": ""
             }
            },
            "type": "scattergl"
           }
          ],
          "scattermap": [
           {
            "marker": {
             "colorbar": {
              "outlinewidth": 0,
              "ticks": ""
             }
            },
            "type": "scattermap"
           }
          ],
          "scattermapbox": [
           {
            "marker": {
             "colorbar": {
              "outlinewidth": 0,
              "ticks": ""
             }
            },
            "type": "scattermapbox"
           }
          ],
          "scatterpolar": [
           {
            "marker": {
             "colorbar": {
              "outlinewidth": 0,
              "ticks": ""
             }
            },
            "type": "scatterpolar"
           }
          ],
          "scatterpolargl": [
           {
            "marker": {
             "colorbar": {
              "outlinewidth": 0,
              "ticks": ""
             }
            },
            "type": "scatterpolargl"
           }
          ],
          "scatterternary": [
           {
            "marker": {
             "colorbar": {
              "outlinewidth": 0,
              "ticks": ""
             }
            },
            "type": "scatterternary"
           }
          ],
          "surface": [
           {
            "colorbar": {
             "outlinewidth": 0,
             "ticks": ""
            },
            "colorscale": [
             [
              0,
              "#0d0887"
             ],
             [
              0.1111111111111111,
              "#46039f"
             ],
             [
              0.2222222222222222,
              "#7201a8"
             ],
             [
              0.3333333333333333,
              "#9c179e"
             ],
             [
              0.4444444444444444,
              "#bd3786"
             ],
             [
              0.5555555555555556,
              "#d8576b"
             ],
             [
              0.6666666666666666,
              "#ed7953"
             ],
             [
              0.7777777777777778,
              "#fb9f3a"
             ],
             [
              0.8888888888888888,
              "#fdca26"
             ],
             [
              1,
              "#f0f921"
             ]
            ],
            "type": "surface"
           }
          ],
          "table": [
           {
            "cells": {
             "fill": {
              "color": "#EBF0F8"
             },
             "line": {
              "color": "white"
             }
            },
            "header": {
             "fill": {
              "color": "#C8D4E3"
             },
             "line": {
              "color": "white"
             }
            },
            "type": "table"
           }
          ]
         },
         "layout": {
          "annotationdefaults": {
           "arrowcolor": "#2a3f5f",
           "arrowhead": 0,
           "arrowwidth": 1
          },
          "autotypenumbers": "strict",
          "coloraxis": {
           "colorbar": {
            "outlinewidth": 0,
            "ticks": ""
           }
          },
          "colorscale": {
           "diverging": [
            [
             0,
             "#8e0152"
            ],
            [
             0.1,
             "#c51b7d"
            ],
            [
             0.2,
             "#de77ae"
            ],
            [
             0.3,
             "#f1b6da"
            ],
            [
             0.4,
             "#fde0ef"
            ],
            [
             0.5,
             "#f7f7f7"
            ],
            [
             0.6,
             "#e6f5d0"
            ],
            [
             0.7,
             "#b8e186"
            ],
            [
             0.8,
             "#7fbc41"
            ],
            [
             0.9,
             "#4d9221"
            ],
            [
             1,
             "#276419"
            ]
           ],
           "sequential": [
            [
             0,
             "#0d0887"
            ],
            [
             0.1111111111111111,
             "#46039f"
            ],
            [
             0.2222222222222222,
             "#7201a8"
            ],
            [
             0.3333333333333333,
             "#9c179e"
            ],
            [
             0.4444444444444444,
             "#bd3786"
            ],
            [
             0.5555555555555556,
             "#d8576b"
            ],
            [
             0.6666666666666666,
             "#ed7953"
            ],
            [
             0.7777777777777778,
             "#fb9f3a"
            ],
            [
             0.8888888888888888,
             "#fdca26"
            ],
            [
             1,
             "#f0f921"
            ]
           ],
           "sequentialminus": [
            [
             0,
             "#0d0887"
            ],
            [
             0.1111111111111111,
             "#46039f"
            ],
            [
             0.2222222222222222,
             "#7201a8"
            ],
            [
             0.3333333333333333,
             "#9c179e"
            ],
            [
             0.4444444444444444,
             "#bd3786"
            ],
            [
             0.5555555555555556,
             "#d8576b"
            ],
            [
             0.6666666666666666,
             "#ed7953"
            ],
            [
             0.7777777777777778,
             "#fb9f3a"
            ],
            [
             0.8888888888888888,
             "#fdca26"
            ],
            [
             1,
             "#f0f921"
            ]
           ]
          },
          "colorway": [
           "#636efa",
           "#EF553B",
           "#00cc96",
           "#ab63fa",
           "#FFA15A",
           "#19d3f3",
           "#FF6692",
           "#B6E880",
           "#FF97FF",
           "#FECB52"
          ],
          "font": {
           "color": "#2a3f5f"
          },
          "geo": {
           "bgcolor": "white",
           "lakecolor": "white",
           "landcolor": "#E5ECF6",
           "showlakes": true,
           "showland": true,
           "subunitcolor": "white"
          },
          "hoverlabel": {
           "align": "left"
          },
          "hovermode": "closest",
          "mapbox": {
           "style": "light"
          },
          "paper_bgcolor": "white",
          "plot_bgcolor": "#E5ECF6",
          "polar": {
           "angularaxis": {
            "gridcolor": "white",
            "linecolor": "white",
            "ticks": ""
           },
           "bgcolor": "#E5ECF6",
           "radialaxis": {
            "gridcolor": "white",
            "linecolor": "white",
            "ticks": ""
           }
          },
          "scene": {
           "xaxis": {
            "backgroundcolor": "#E5ECF6",
            "gridcolor": "white",
            "gridwidth": 2,
            "linecolor": "white",
            "showbackground": true,
            "ticks": "",
            "zerolinecolor": "white"
           },
           "yaxis": {
            "backgroundcolor": "#E5ECF6",
            "gridcolor": "white",
            "gridwidth": 2,
            "linecolor": "white",
            "showbackground": true,
            "ticks": "",
            "zerolinecolor": "white"
           },
           "zaxis": {
            "backgroundcolor": "#E5ECF6",
            "gridcolor": "white",
            "gridwidth": 2,
            "linecolor": "white",
            "showbackground": true,
            "ticks": "",
            "zerolinecolor": "white"
           }
          },
          "shapedefaults": {
           "line": {
            "color": "#2a3f5f"
           }
          },
          "ternary": {
           "aaxis": {
            "gridcolor": "white",
            "linecolor": "white",
            "ticks": ""
           },
           "baxis": {
            "gridcolor": "white",
            "linecolor": "white",
            "ticks": ""
           },
           "bgcolor": "#E5ECF6",
           "caxis": {
            "gridcolor": "white",
            "linecolor": "white",
            "ticks": ""
           }
          },
          "title": {
           "x": 0.05
          },
          "xaxis": {
           "automargin": true,
           "gridcolor": "white",
           "linecolor": "white",
           "ticks": "",
           "title": {
            "standoff": 15
           },
           "zerolinecolor": "white",
           "zerolinewidth": 2
          },
          "yaxis": {
           "automargin": true,
           "gridcolor": "white",
           "linecolor": "white",
           "ticks": "",
           "title": {
            "standoff": 15
           },
           "zerolinecolor": "white",
           "zerolinewidth": 2
          }
         }
        },
        "title": {
         "text": "Daily Sales Trend (Detailed)"
        },
        "xaxis": {
         "gridcolor": "lightgrey",
         "rangeselector": {
          "buttons": [
           {
            "count": 7,
            "label": "1w",
            "step": "day",
            "stepmode": "backward"
           },
           {
            "count": 1,
            "label": "1m",
            "step": "month",
            "stepmode": "backward"
           },
           {
            "step": "all"
           }
          ]
         },
         "rangeslider": {
          "visible": true
         },
         "showgrid": true,
         "tickangle": -45,
         "title": {
          "text": "Date"
         },
         "type": "date"
        },
        "yaxis": {
         "gridcolor": "lightgrey",
         "showgrid": true,
         "title": {
          "text": "Selling Price"
         }
        }
       }
      }
     },
     "metadata": {},
     "output_type": "display_data"
    },
    {
     "data": {
      "application/vnd.plotly.v1+json": {
       "config": {
        "plotlyServerURL": "https://plot.ly"
       },
       "data": [
        {
         "hovertemplate": "<b>%{hovertext}</b><br>Discount: %{x:.2f}%<br>Total Sales: %{y:.2f}<br>Total Stock: %{marker.size}<extra></extra>",
         "hovertext": [
          "CarePlus Ltd."
         ],
         "legendgroup": "CarePlus Ltd.",
         "marker": {
          "color": "#636efa",
          "line": {
           "color": "DarkSlateGrey",
           "width": 1
          },
          "size": {
           "bdata": "ugE=",
           "dtype": "i2"
          },
          "sizemode": "area",
          "sizeref": 0.412,
          "symbol": "circle"
         },
         "mode": "markers",
         "name": "CarePlus Ltd.",
         "orientation": "v",
         "showlegend": true,
         "type": "scatter",
         "x": {
          "bdata": "AAAAAAAABEA=",
          "dtype": "f8"
         },
         "xaxis": "x",
         "y": {
          "bdata": "mpmZmZlhZ0A=",
          "dtype": "f8"
         },
         "yaxis": "y"
        },
        {
         "hovertemplate": "<b>%{hovertext}</b><br>Discount: %{x:.2f}%<br>Total Sales: %{y:.2f}<br>Total Stock: %{marker.size}<extra></extra>",
         "hovertext": [
          "DrinkWell Inc."
         ],
         "legendgroup": "DrinkWell Inc.",
         "marker": {
          "color": "#EF553B",
          "line": {
           "color": "DarkSlateGrey",
           "width": 1
          },
          "size": {
           "bdata": "eAE=",
           "dtype": "i2"
          },
          "sizemode": "area",
          "sizeref": 0.412,
          "symbol": "circle"
         },
         "mode": "markers",
         "name": "DrinkWell Inc.",
         "orientation": "v",
         "showlegend": true,
         "type": "scatter",
         "x": {
          "bdata": "VVVVVVVVDUA=",
          "dtype": "f8"
         },
         "xaxis": "x",
         "y": {
          "bdata": "zczMzMzsRkA=",
          "dtype": "f8"
         },
         "yaxis": "y"
        },
        {
         "hovertemplate": "<b>%{hovertext}</b><br>Discount: %{x:.2f}%<br>Total Sales: %{y:.2f}<br>Total Stock: %{marker.size}<extra></extra>",
         "hovertext": [
          "FurniWorld Ltd."
         ],
         "legendgroup": "FurniWorld Ltd.",
         "marker": {
          "color": "#00cc96",
          "line": {
           "color": "DarkSlateGrey",
           "width": 1
          },
          "size": {
           "bdata": "XgE=",
           "dtype": "i2"
          },
          "sizemode": "area",
          "sizeref": 0.412,
          "symbol": "circle"
         },
         "mode": "markers",
         "name": "FurniWorld Ltd.",
         "orientation": "v",
         "showlegend": true,
         "type": "scatter",
         "x": {
          "bdata": "SZIkSZIkAUA=",
          "dtype": "f8"
         },
         "xaxis": "x",
         "y": {
          "bdata": "AAAAAABFlkA=",
          "dtype": "f8"
         },
         "yaxis": "y"
        },
        {
         "hovertemplate": "<b>%{hovertext}</b><br>Discount: %{x:.2f}%<br>Total Sales: %{y:.2f}<br>Total Stock: %{marker.size}<extra></extra>",
         "hovertext": [
          "HomeTech Supplies"
         ],
         "legendgroup": "HomeTech Supplies",
         "marker": {
          "color": "#ab63fa",
          "line": {
           "color": "DarkSlateGrey",
           "width": 1
          },
          "size": {
           "bdata": "VQ==",
           "dtype": "i1"
          },
          "sizemode": "area",
          "sizeref": 0.412,
          "symbol": "circle"
         },
         "mode": "markers",
         "name": "HomeTech Supplies",
         "orientation": "v",
         "showlegend": true,
         "type": "scatter",
         "x": {
          "bdata": "AAAAAAAAAAA=",
          "dtype": "f8"
         },
         "xaxis": "x",
         "y": {
          "bdata": "AAAAAABIh0A=",
          "dtype": "f8"
         },
         "yaxis": "y"
        },
        {
         "hovertemplate": "<b>%{hovertext}</b><br>Discount: %{x:.2f}%<br>Total Sales: %{y:.2f}<br>Total Stock: %{marker.size}<extra></extra>",
         "hovertext": [
          "KitchenPro Inc."
         ],
         "legendgroup": "KitchenPro Inc.",
         "marker": {
          "color": "#FFA15A",
          "line": {
           "color": "DarkSlateGrey",
           "width": 1
          },
          "size": {
           "bdata": "HAE=",
           "dtype": "i2"
          },
          "sizemode": "area",
          "sizeref": 0.412,
          "symbol": "circle"
         },
         "mode": "markers",
         "name": "KitchenPro Inc.",
         "orientation": "v",
         "showlegend": true,
         "type": "scatter",
         "x": {
          "bdata": "VVVVVVVVFUA=",
          "dtype": "f8"
         },
         "xaxis": "x",
         "y": {
          "bdata": "XI/C9ShCj0A=",
          "dtype": "f8"
         },
         "yaxis": "y"
        },
        {
         "hovertemplate": "<b>%{hovertext}</b><br>Discount: %{x:.2f}%<br>Total Sales: %{y:.2f}<br>Total Stock: %{marker.size}<extra></extra>",
         "hovertext": [
          "OfficeEssentials Co."
         ],
         "legendgroup": "OfficeEssentials Co.",
         "marker": {
          "color": "#19d3f3",
          "line": {
           "color": "DarkSlateGrey",
           "width": 1
          },
          "size": {
           "bdata": "JgI=",
           "dtype": "i2"
          },
          "sizemode": "area",
          "sizeref": 0.412,
          "symbol": "circle"
         },
         "mode": "markers",
         "name": "OfficeEssentials Co.",
         "orientation": "v",
         "showlegend": true,
         "type": "scatter",
         "x": {
          "bdata": "0UUXXXTR9T8=",
          "dtype": "f8"
         },
         "xaxis": "x",
         "y": {
          "bdata": "mpmZmZmZUEA=",
          "dtype": "f8"
         },
         "yaxis": "y"
        },
        {
         "hovertemplate": "<b>%{hovertext}</b><br>Discount: %{x:.2f}%<br>Total Sales: %{y:.2f}<br>Total Stock: %{marker.size}<extra></extra>",
         "hovertext": [
          "Sportify Ltd."
         ],
         "legendgroup": "Sportify Ltd.",
         "marker": {
          "color": "#FF6692",
          "line": {
           "color": "DarkSlateGrey",
           "width": 1
          },
          "size": {
           "bdata": "KAE=",
           "dtype": "i2"
          },
          "sizemode": "area",
          "sizeref": 0.412,
          "symbol": "circle"
         },
         "mode": "markers",
         "name": "Sportify Ltd.",
         "orientation": "v",
         "showlegend": true,
         "type": "scatter",
         "x": {
          "bdata": "VVVVVVVVDUA=",
          "dtype": "f8"
         },
         "xaxis": "x",
         "y": {
          "bdata": "AAAAAAAdkUA=",
          "dtype": "f8"
         },
         "yaxis": "y"
        },
        {
         "hovertemplate": "<b>%{hovertext}</b><br>Discount: %{x:.2f}%<br>Total Sales: %{y:.2f}<br>Total Stock: %{marker.size}<extra></extra>",
         "hovertext": [
          "TechSuppliers Ltd."
         ],
         "legendgroup": "TechSuppliers Ltd.",
         "marker": {
          "color": "#B6E880",
          "line": {
           "color": "DarkSlateGrey",
           "width": 1
          },
          "size": {
           "bdata": "BgQ=",
           "dtype": "i2"
          },
          "sizemode": "area",
          "sizeref": 0.412,
          "symbol": "circle"
         },
         "mode": "markers",
         "name": "TechSuppliers Ltd.",
         "orientation": "v",
         "showlegend": true,
         "type": "scatter",
         "x": {
          "bdata": "VVVVVVXVEkA=",
          "dtype": "f8"
         },
         "xaxis": "x",
         "y": {
          "bdata": "mpmZmZk3sEA=",
          "dtype": "f8"
         },
         "yaxis": "y"
        },
        {
         "hovertemplate": "<b>%{hovertext}</b><br>Discount: %{x:.2f}%<br>Total Sales: %{y:.2f}<br>Total Stock: %{marker.size}<extra></extra>",
         "hovertext": [
          "Trendy Apparel"
         ],
         "legendgroup": "Trendy Apparel",
         "marker": {
          "color": "#FF97FF",
          "line": {
           "color": "DarkSlateGrey",
           "width": 1
          },
          "size": {
           "bdata": "wgE=",
           "dtype": "i2"
          },
          "sizemode": "area",
          "sizeref": 0.412,
          "symbol": "circle"
         },
         "mode": "markers",
         "name": "Trendy Apparel",
         "orientation": "v",
         "showlegend": true,
         "type": "scatter",
         "x": {
          "bdata": "AAAAAAAAFEA=",
          "dtype": "f8"
         },
         "xaxis": "x",
         "y": {
          "bdata": "AAAAAADwXkA=",
          "dtype": "f8"
         },
         "yaxis": "y"
        }
       ],
       "layout": {
        "height": 600,
        "hovermode": "closest",
        "legend": {
         "itemsizing": "constant",
         "title": {
          "text": "Supplier"
         },
         "tracegroupgap": 0
        },
        "margin": {
         "b": 60,
         "l": 60,
         "r": 40,
         "t": 120
        },
        "template": {
         "data": {
          "bar": [
           {
            "error_x": {
             "color": "#2a3f5f"
            },
            "error_y": {
             "color": "#2a3f5f"
            },
            "marker": {
             "line": {
              "color": "#E5ECF6",
              "width": 0.5
             },
             "pattern": {
              "fillmode": "overlay",
              "size": 10,
              "solidity": 0.2
             }
            },
            "type": "bar"
           }
          ],
          "barpolar": [
           {
            "marker": {
             "line": {
              "color": "#E5ECF6",
              "width": 0.5
             },
             "pattern": {
              "fillmode": "overlay",
              "size": 10,
              "solidity": 0.2
             }
            },
            "type": "barpolar"
           }
          ],
          "carpet": [
           {
            "aaxis": {
             "endlinecolor": "#2a3f5f",
             "gridcolor": "white",
             "linecolor": "white",
             "minorgridcolor": "white",
             "startlinecolor": "#2a3f5f"
            },
            "baxis": {
             "endlinecolor": "#2a3f5f",
             "gridcolor": "white",
             "linecolor": "white",
             "minorgridcolor": "white",
             "startlinecolor": "#2a3f5f"
            },
            "type": "carpet"
           }
          ],
          "choropleth": [
           {
            "colorbar": {
             "outlinewidth": 0,
             "ticks": ""
            },
            "type": "choropleth"
           }
          ],
          "contour": [
           {
            "colorbar": {
             "outlinewidth": 0,
             "ticks": ""
            },
            "colorscale": [
             [
              0,
              "#0d0887"
             ],
             [
              0.1111111111111111,
              "#46039f"
             ],
             [
              0.2222222222222222,
              "#7201a8"
             ],
             [
              0.3333333333333333,
              "#9c179e"
             ],
             [
              0.4444444444444444,
              "#bd3786"
             ],
             [
              0.5555555555555556,
              "#d8576b"
             ],
             [
              0.6666666666666666,
              "#ed7953"
             ],
             [
              0.7777777777777778,
              "#fb9f3a"
             ],
             [
              0.8888888888888888,
              "#fdca26"
             ],
             [
              1,
              "#f0f921"
             ]
            ],
            "type": "contour"
           }
          ],
          "contourcarpet": [
           {
            "colorbar": {
             "outlinewidth": 0,
             "ticks": ""
            },
            "type": "contourcarpet"
           }
          ],
          "heatmap": [
           {
            "colorbar": {
             "outlinewidth": 0,
             "ticks": ""
            },
            "colorscale": [
             [
              0,
              "#0d0887"
             ],
             [
              0.1111111111111111,
              "#46039f"
             ],
             [
              0.2222222222222222,
              "#7201a8"
             ],
             [
              0.3333333333333333,
              "#9c179e"
             ],
             [
              0.4444444444444444,
              "#bd3786"
             ],
             [
              0.5555555555555556,
              "#d8576b"
             ],
             [
              0.6666666666666666,
              "#ed7953"
             ],
             [
              0.7777777777777778,
              "#fb9f3a"
             ],
             [
              0.8888888888888888,
              "#fdca26"
             ],
             [
              1,
              "#f0f921"
             ]
            ],
            "type": "heatmap"
           }
          ],
          "histogram": [
           {
            "marker": {
             "pattern": {
              "fillmode": "overlay",
              "size": 10,
              "solidity": 0.2
             }
            },
            "type": "histogram"
           }
          ],
          "histogram2d": [
           {
            "colorbar": {
             "outlinewidth": 0,
             "ticks": ""
            },
            "colorscale": [
             [
              0,
              "#0d0887"
             ],
             [
              0.1111111111111111,
              "#46039f"
             ],
             [
              0.2222222222222222,
              "#7201a8"
             ],
             [
              0.3333333333333333,
              "#9c179e"
             ],
             [
              0.4444444444444444,
              "#bd3786"
             ],
             [
              0.5555555555555556,
              "#d8576b"
             ],
             [
              0.6666666666666666,
              "#ed7953"
             ],
             [
              0.7777777777777778,
              "#fb9f3a"
             ],
             [
              0.8888888888888888,
              "#fdca26"
             ],
             [
              1,
              "#f0f921"
             ]
            ],
            "type": "histogram2d"
           }
          ],
          "histogram2dcontour": [
           {
            "colorbar": {
             "outlinewidth": 0,
             "ticks": ""
            },
            "colorscale": [
             [
              0,
              "#0d0887"
             ],
             [
              0.1111111111111111,
              "#46039f"
             ],
             [
              0.2222222222222222,
              "#7201a8"
             ],
             [
              0.3333333333333333,
              "#9c179e"
             ],
             [
              0.4444444444444444,
              "#bd3786"
             ],
             [
              0.5555555555555556,
              "#d8576b"
             ],
             [
              0.6666666666666666,
              "#ed7953"
             ],
             [
              0.7777777777777778,
              "#fb9f3a"
             ],
             [
              0.8888888888888888,
              "#fdca26"
             ],
             [
              1,
              "#f0f921"
             ]
            ],
            "type": "histogram2dcontour"
           }
          ],
          "mesh3d": [
           {
            "colorbar": {
             "outlinewidth": 0,
             "ticks": ""
            },
            "type": "mesh3d"
           }
          ],
          "parcoords": [
           {
            "line": {
             "colorbar": {
              "outlinewidth": 0,
              "ticks": ""
             }
            },
            "type": "parcoords"
           }
          ],
          "pie": [
           {
            "automargin": true,
            "type": "pie"
           }
          ],
          "scatter": [
           {
            "fillpattern": {
             "fillmode": "overlay",
             "size": 10,
             "solidity": 0.2
            },
            "type": "scatter"
           }
          ],
          "scatter3d": [
           {
            "line": {
             "colorbar": {
              "outlinewidth": 0,
              "ticks": ""
             }
            },
            "marker": {
             "colorbar": {
              "outlinewidth": 0,
              "ticks": ""
             }
            },
            "type": "scatter3d"
           }
          ],
          "scattercarpet": [
           {
            "marker": {
             "colorbar": {
              "outlinewidth": 0,
              "ticks": ""
             }
            },
            "type": "scattercarpet"
           }
          ],
          "scattergeo": [
           {
            "marker": {
             "colorbar": {
              "outlinewidth": 0,
              "ticks": ""
             }
            },
            "type": "scattergeo"
           }
          ],
          "scattergl": [
           {
            "marker": {
             "colorbar": {
              "outlinewidth": 0,
              "ticks": ""
             }
            },
            "type": "scattergl"
           }
          ],
          "scattermap": [
           {
            "marker": {
             "colorbar": {
              "outlinewidth": 0,
              "ticks": ""
             }
            },
            "type": "scattermap"
           }
          ],
          "scattermapbox": [
           {
            "marker": {
             "colorbar": {
              "outlinewidth": 0,
              "ticks": ""
             }
            },
            "type": "scattermapbox"
           }
          ],
          "scatterpolar": [
           {
            "marker": {
             "colorbar": {
              "outlinewidth": 0,
              "ticks": ""
             }
            },
            "type": "scatterpolar"
           }
          ],
          "scatterpolargl": [
           {
            "marker": {
             "colorbar": {
              "outlinewidth": 0,
              "ticks": ""
             }
            },
            "type": "scatterpolargl"
           }
          ],
          "scatterternary": [
           {
            "marker": {
             "colorbar": {
              "outlinewidth": 0,
              "ticks": ""
             }
            },
            "type": "scatterternary"
           }
          ],
          "surface": [
           {
            "colorbar": {
             "outlinewidth": 0,
             "ticks": ""
            },
            "colorscale": [
             [
              0,
              "#0d0887"
             ],
             [
              0.1111111111111111,
              "#46039f"
             ],
             [
              0.2222222222222222,
              "#7201a8"
             ],
             [
              0.3333333333333333,
              "#9c179e"
             ],
             [
              0.4444444444444444,
              "#bd3786"
             ],
             [
              0.5555555555555556,
              "#d8576b"
             ],
             [
              0.6666666666666666,
              "#ed7953"
             ],
             [
              0.7777777777777778,
              "#fb9f3a"
             ],
             [
              0.8888888888888888,
              "#fdca26"
             ],
             [
              1,
              "#f0f921"
             ]
            ],
            "type": "surface"
           }
          ],
          "table": [
           {
            "cells": {
             "fill": {
              "color": "#EBF0F8"
             },
             "line": {
              "color": "white"
             }
            },
            "header": {
             "fill": {
              "color": "#C8D4E3"
             },
             "line": {
              "color": "white"
             }
            },
            "type": "table"
           }
          ]
         },
         "layout": {
          "annotationdefaults": {
           "arrowcolor": "#2a3f5f",
           "arrowhead": 0,
           "arrowwidth": 1
          },
          "autotypenumbers": "strict",
          "coloraxis": {
           "colorbar": {
            "outlinewidth": 0,
            "ticks": ""
           }
          },
          "colorscale": {
           "diverging": [
            [
             0,
             "#8e0152"
            ],
            [
             0.1,
             "#c51b7d"
            ],
            [
             0.2,
             "#de77ae"
            ],
            [
             0.3,
             "#f1b6da"
            ],
            [
             0.4,
             "#fde0ef"
            ],
            [
             0.5,
             "#f7f7f7"
            ],
            [
             0.6,
             "#e6f5d0"
            ],
            [
             0.7,
             "#b8e186"
            ],
            [
             0.8,
             "#7fbc41"
            ],
            [
             0.9,
             "#4d9221"
            ],
            [
             1,
             "#276419"
            ]
           ],
           "sequential": [
            [
             0,
             "#0d0887"
            ],
            [
             0.1111111111111111,
             "#46039f"
            ],
            [
             0.2222222222222222,
             "#7201a8"
            ],
            [
             0.3333333333333333,
             "#9c179e"
            ],
            [
             0.4444444444444444,
             "#bd3786"
            ],
            [
             0.5555555555555556,
             "#d8576b"
            ],
            [
             0.6666666666666666,
             "#ed7953"
            ],
            [
             0.7777777777777778,
             "#fb9f3a"
            ],
            [
             0.8888888888888888,
             "#fdca26"
            ],
            [
             1,
             "#f0f921"
            ]
           ],
           "sequentialminus": [
            [
             0,
             "#0d0887"
            ],
            [
             0.1111111111111111,
             "#46039f"
            ],
            [
             0.2222222222222222,
             "#7201a8"
            ],
            [
             0.3333333333333333,
             "#9c179e"
            ],
            [
             0.4444444444444444,
             "#bd3786"
            ],
            [
             0.5555555555555556,
             "#d8576b"
            ],
            [
             0.6666666666666666,
             "#ed7953"
            ],
            [
             0.7777777777777778,
             "#fb9f3a"
            ],
            [
             0.8888888888888888,
             "#fdca26"
            ],
            [
             1,
             "#f0f921"
            ]
           ]
          },
          "colorway": [
           "#636efa",
           "#EF553B",
           "#00cc96",
           "#ab63fa",
           "#FFA15A",
           "#19d3f3",
           "#FF6692",
           "#B6E880",
           "#FF97FF",
           "#FECB52"
          ],
          "font": {
           "color": "#2a3f5f"
          },
          "geo": {
           "bgcolor": "white",
           "lakecolor": "white",
           "landcolor": "#E5ECF6",
           "showlakes": true,
           "showland": true,
           "subunitcolor": "white"
          },
          "hoverlabel": {
           "align": "left"
          },
          "hovermode": "closest",
          "mapbox": {
           "style": "light"
          },
          "paper_bgcolor": "white",
          "plot_bgcolor": "#E5ECF6",
          "polar": {
           "angularaxis": {
            "gridcolor": "white",
            "linecolor": "white",
            "ticks": ""
           },
           "bgcolor": "#E5ECF6",
           "radialaxis": {
            "gridcolor": "white",
            "linecolor": "white",
            "ticks": ""
           }
          },
          "scene": {
           "xaxis": {
            "backgroundcolor": "#E5ECF6",
            "gridcolor": "white",
            "gridwidth": 2,
            "linecolor": "white",
            "showbackground": true,
            "ticks": "",
            "zerolinecolor": "white"
           },
           "yaxis": {
            "backgroundcolor": "#E5ECF6",
            "gridcolor": "white",
            "gridwidth": 2,
            "linecolor": "white",
            "showbackground": true,
            "ticks": "",
            "zerolinecolor": "white"
           },
           "zaxis": {
            "backgroundcolor": "#E5ECF6",
            "gridcolor": "white",
            "gridwidth": 2,
            "linecolor": "white",
            "showbackground": true,
            "ticks": "",
            "zerolinecolor": "white"
           }
          },
          "shapedefaults": {
           "line": {
            "color": "#2a3f5f"
           }
          },
          "ternary": {
           "aaxis": {
            "gridcolor": "white",
            "linecolor": "white",
            "ticks": ""
           },
           "baxis": {
            "gridcolor": "white",
            "linecolor": "white",
            "ticks": ""
           },
           "bgcolor": "#E5ECF6",
           "caxis": {
            "gridcolor": "white",
            "linecolor": "white",
            "ticks": ""
           }
          },
          "title": {
           "x": 0.05
          },
          "xaxis": {
           "automargin": true,
           "gridcolor": "white",
           "linecolor": "white",
           "ticks": "",
           "title": {
            "standoff": 15
           },
           "zerolinecolor": "white",
           "zerolinewidth": 2
          },
          "yaxis": {
           "automargin": true,
           "gridcolor": "white",
           "linecolor": "white",
           "ticks": "",
           "title": {
            "standoff": 15
           },
           "zerolinecolor": "white",
           "zerolinewidth": 2
          }
         }
        },
        "title": {
         "text": "Supplier Discount vs Total Sales"
        },
        "xaxis": {
         "anchor": "y",
         "domain": [
          0,
          1
         ],
         "title": {
          "text": "Average Discount (%)"
         }
        },
        "yaxis": {
         "anchor": "x",
         "domain": [
          0,
          1
         ],
         "title": {
          "text": "Total Sales"
         }
        }
       }
      }
     },
     "metadata": {},
     "output_type": "display_data"
    },
    {
     "data": {
      "application/vnd.plotly.v1+json": {
       "config": {
        "plotlyServerURL": "https://plot.ly"
       },
       "data": [
        {
         "branchvalues": "total",
         "customdata": {
          "bdata": "ZmZmZmbmi0AAAAAAANCBQAAAAAAAKodAmpmZmZkZYUAAAAAAACBDQAAAAAAAgFlAAAAAAAAAfkAAAAAAAIBmQAAAAAAAgEtAAAAAAAAAPkAAAAAAAAAeQAAAAAAAAAhAAAAAAAAAEkAAAAAAAAAYQAAAAAAAAAJAAAAAAAAAMkBmZmZmZmYqQAAAAAAAAChAAAAAAAAA+D8AAAAAAADoPwAAAAAAABJAAAAAAAAACEAAAAAAAAAeQAAAAAAAAPg/MzMzMzMz8z+amZmZmZkrQAAAAAAAADJAAAAAAAAARUAAAAAAAMBiQAAAAAAAIGxAAAAAAABQVEAAAAAAAFh7QAAAAAAAwGJAAAAAAACIc0AAAAAAALBTQAAAAAAAAFZAZmZmZmYGbUAAAAAAAAByQAAAAAAAgHNAAAAAAAAAYkAAAAAAAPiBQAAAAAAAkFVAAAAAAAAAN0AAAAAAAMBXQAAAAAAAgFlAAAAAAADAakAAAAAAAKBvQAAAAAAAQHFAAAAAAACgT0BmZmZmZmYiQAAAAAAA8H5AAAAAAACAO0AAAAAAAGBXQAAAAAAAABBAzczMzMzMMEAAAAAAAAA0QAAAAAAAADlAAAAAAADAYkAAAAAAAAA5QAAAAAAAABRAAAAAAABAQ0AAAAAAAIBWQAAAAAAAQFFAAAAAAAAABEAAAAAAAAD4P83MzMzMzOw/AAAAAAAAKECbmZmZmZnZPx+F61G4HvU/MzMzMzMzE0AAAAAAALBSQAAAAAAAgEZAAAAAAAAAEEAAAAAAAAAuQAAAAAAAYEJApfRVigMaiED5Z1uzS1GBQM0Y5T9okoZAXJ6mx0tsWUDROLdRgOdXQAAAAAAAAH5AAAAAAACAZkAAAAAAAIBLQAAAAAAAAD5AVVVVVVVVG0AAAAAAAAAIQAAAAAAAABJAAAAAAAAAAkAAAAAAAAAyQKWlpaWlpSlAAAAAAAAAKEAAAAAAAAD4PwAAAAAAAOg/AAAAAAAAEkAAAAAAAAAIQAAAAAAAAB5AsRM7sRO7MEAzMzMzMzPzP5qZmZmZmStAFYinSq7paEBppmtX42BtQAAAAAAAIGxAAAAAAABQVEAAAAAAAFh7QAAAAAAAwGJAUUjgLk5eU0AAAAAAAABWQGZmZmZmBm1AAAAAAAAAckAAAAAAAIBzQMZb2eeQemBAeqBydguvf0AAAAAAAJBVQAAAAAAAADdAAAAAAACAWUAAAAAAAMBqQAAAAAAAoG9AAAAAAACgT0BmZmZmZmYiQAAAAAAA8H5AAAAAAAAAOUAAAAAAAAAEQAAAAAAAAPg/zczMzMzM7D8AAAAAAAAoQDMzMzMzMxNAAAAAAACwUkAAAAAAAIBGQAAAAAAAABBAE+qDzdUXgECPuUR4UmB2QGdxgnUWN1xAtR7KfP0kLECGGgtSpcwmQCUOgQ4ZXnFAiEt2pbkCb0CBOM3oMAt3QJ0wfrSN0k5A",
          "dtype": "f8",
          "shape": "138, 1"
         },
         "domain": {
          "x": [
           0,
           1
          ],
          "y": [
           0,
           1
          ]
         },
         "hovertemplate": "labels=%{label}<br>SellingPrice_sum=%{value}<br>parent=%{parent}<br>id=%{id}<br>SellingPrice=%{color}<extra></extra>",
         "ids": [
          "Electronics/Dubai/LED TV 42\"",
          "Electronics/Abu Dhabi/Smartphone Pro X",
          "Electronics/Sharjah/Laptop i5 Max",
          "Electronics/Dubai/Bluetooth Speaker Plus",
          "Electronics/Muscat/Wireless Mouse X",
          "Electronics/Ibra/Gaming Keyboard Pro",
          "Appliances/Salalah/Refrigerator 300L",
          "Appliances/Muscat/Microwave Oven 20L",
          "Appliances/Ibra/Rice Cooker Deluxe",
          "Appliances/Dubai/Electric Kettle 1.7L",
          "Personal Care/Riyadh/Shampoo 500ml",
          "Personal Care/Jeddah/Toothpaste Gel",
          "Personal Care/Dammam/Face Wash Sensitive",
          "Personal Care/Riyadh/Body Lotion 250ml",
          "Personal Care/Makkah/Hand Soap Liquid",
          "Beverages/Medina/Coffee Beans 500g",
          "Beverages/Jeddah/Green Tea 100g",
          "Beverages/Riyadh/Orange Juice 1L",
          "Beverages/Ibra/Mineral Water 1.5L",
          "Beverages/Dubai/Chocolate Bar 100g",
          "Stationery/Abu Dhabi/Pen Gel Pack",
          "Stationery/Sharjah/Notebook A4 200pg",
          "Stationery/Dubai/Stapler Heavy Duty",
          "Stationery/Muscat/Whiteboard Marker",
          "Stationery/Salalah/Sticky Notes 100s",
          "Stationery/Ibra/Printer Ink Black",
          "Stationery/Muscat/Printer Ink Color",
          "Electronics/Riyadh/Desk Lamp LED",
          "Furniture/Jeddah/Office Chair Ergonomic",
          "Furniture/Dammam/Standing Desk 120cm",
          "Furniture/Riyadh/Bookshelf 5-Tier",
          "Furniture/Makkah/Sofa 3-Seater",
          "Furniture/Medina/Coffee Table Wooden",
          "Furniture/Jeddah/Dining Table Set",
          "Kitchenware/Riyadh/Knife Set Stainless Steel",
          "Kitchenware/Ibra/Non-stick Frying Pan 28cm",
          "Kitchenware/Dubai/Blender 1.5L",
          "Kitchenware/Abu Dhabi/Juicer 500W",
          "Kitchenware/Sharjah/Toaster 2-Slice",
          "Personal Care/Dubai/Hair Dryer 2000W",
          "Sports Equipment/Muscat/Treadmill Basic",
          "Sports Equipment/Salalah/Dumbbell Set 20kg",
          "Sports Equipment/Ibra/Yoga Mat Non-Slip",
          "Sports Equipment/Muscat/Tennis Racket Pro",
          "Sports Equipment/Riyadh/Football Size 5",
          "Sports Equipment/Jeddah/Running Shoes AirZoom",
          "Electronics/Dammam/Smartwatch Series 5",
          "Electronics/Riyadh/Tablet 10\"",
          "Electronics/Makkah/External Hard Drive 1TB",
          "Electronics/Medina/USB Flash Drive 64GB",
          "Electronics/Jeddah/Camera DSLR 24MP",
          "Electronics/Riyadh/Tripod 1.5m",
          "Electronics/Ibra/Router Wi-Fi 6",
          "Electronics/Dubai/HDMI Cable 2m",
          "Electronics/Abu Dhabi/Power Bank 20000mAh",
          "Electronics/Sharjah/Earphones Wireless",
          "Electronics/Dubai/Speaker Portable",
          "Electronics/Muscat/Monitor 32\" LED",
          "Electronics/Salalah/Laptop Stand Adjustable",
          "Electronics/Ibra/Mouse Pad Large",
          "Electronics/Muscat/Keyboard Mechanical",
          "Electronics/Riyadh/Scanner Sheetfed",
          "Furniture/Jeddah/Filing Cabinet Steel",
          "Stationery/Dammam/Envelope Pack 100",
          "Stationery/Riyadh/Paper Ream A4",
          "Stationery/Makkah/Marker Permanent",
          "Stationery/Medina/Calculator Casio FX-991EX",
          "Beverages/Jeddah/Water Bottle 1L",
          "Kitchenware/Riyadh/Lunch Box Plastic",
          "Personal Care/Ibra/Umbrella Foldable",
          "Clothing/Dubai/Jacket Waterproof",
          "Clothing/Abu Dhabi/Shoes Leather",
          "Clothing/Sharjah/Socks Cotton Pack",
          "Personal Care/Dubai/Sunglasses UV Protection",
          "Electronics/Muscat/Smart LED Lamp",
          "Electronics/Dubai",
          "Electronics/Abu Dhabi",
          "Electronics/Sharjah",
          "Electronics/Muscat",
          "Electronics/Ibra",
          "Appliances/Salalah",
          "Appliances/Muscat",
          "Appliances/Ibra",
          "Appliances/Dubai",
          "Personal Care/Riyadh",
          "Personal Care/Jeddah",
          "Personal Care/Dammam",
          "Personal Care/Makkah",
          "Beverages/Medina",
          "Beverages/Jeddah",
          "Beverages/Riyadh",
          "Beverages/Ibra",
          "Beverages/Dubai",
          "Stationery/Abu Dhabi",
          "Stationery/Sharjah",
          "Stationery/Dubai",
          "Stationery/Muscat",
          "Stationery/Salalah",
          "Stationery/Ibra",
          "Electronics/Riyadh",
          "Furniture/Jeddah",
          "Furniture/Dammam",
          "Furniture/Riyadh",
          "Furniture/Makkah",
          "Furniture/Medina",
          "Kitchenware/Riyadh",
          "Kitchenware/Ibra",
          "Kitchenware/Dubai",
          "Kitchenware/Abu Dhabi",
          "Kitchenware/Sharjah",
          "Personal Care/Dubai",
          "Sports Equipment/Muscat",
          "Sports Equipment/Salalah",
          "Sports Equipment/Ibra",
          "Sports Equipment/Riyadh",
          "Sports Equipment/Jeddah",
          "Electronics/Dammam",
          "Electronics/Makkah",
          "Electronics/Medina",
          "Electronics/Jeddah",
          "Electronics/Salalah",
          "Stationery/Dammam",
          "Stationery/Riyadh",
          "Stationery/Makkah",
          "Stationery/Medina",
          "Personal Care/Ibra",
          "Clothing/Dubai",
          "Clothing/Abu Dhabi",
          "Clothing/Sharjah",
          "Electronics",
          "Appliances",
          "Personal Care",
          "Beverages",
          "Stationery",
          "Furniture",
          "Kitchenware",
          "Sports Equipment",
          "Clothing"
         ],
         "labels": [
          "LED TV 42\"",
          "Smartphone Pro X",
          "Laptop i5 Max",
          "Bluetooth Speaker Plus",
          "Wireless Mouse X",
          "Gaming Keyboard Pro",
          "Refrigerator 300L",
          "Microwave Oven 20L",
          "Rice Cooker Deluxe",
          "Electric Kettle 1.7L",
          "Shampoo 500ml",
          "Toothpaste Gel",
          "Face Wash Sensitive",
          "Body Lotion 250ml",
          "Hand Soap Liquid",
          "Coffee Beans 500g",
          "Green Tea 100g",
          "Orange Juice 1L",
          "Mineral Water 1.5L",
          "Chocolate Bar 100g",
          "Pen Gel Pack",
          "Notebook A4 200pg",
          "Stapler Heavy Duty",
          "Whiteboard Marker",
          "Sticky Notes 100s",
          "Printer Ink Black",
          "Printer Ink Color",
          "Desk Lamp LED",
          "Office Chair Ergonomic",
          "Standing Desk 120cm",
          "Bookshelf 5-Tier",
          "Sofa 3-Seater",
          "Coffee Table Wooden",
          "Dining Table Set",
          "Knife Set Stainless Steel",
          "Non-stick Frying Pan 28cm",
          "Blender 1.5L",
          "Juicer 500W",
          "Toaster 2-Slice",
          "Hair Dryer 2000W",
          "Treadmill Basic",
          "Dumbbell Set 20kg",
          "Yoga Mat Non-Slip",
          "Tennis Racket Pro",
          "Football Size 5",
          "Running Shoes AirZoom",
          "Smartwatch Series 5",
          "Tablet 10\"",
          "External Hard Drive 1TB",
          "USB Flash Drive 64GB",
          "Camera DSLR 24MP",
          "Tripod 1.5m",
          "Router Wi-Fi 6",
          "HDMI Cable 2m",
          "Power Bank 20000mAh",
          "Earphones Wireless",
          "Speaker Portable",
          "Monitor 32\" LED",
          "Laptop Stand Adjustable",
          "Mouse Pad Large",
          "Keyboard Mechanical",
          "Scanner Sheetfed",
          "Filing Cabinet Steel",
          "Envelope Pack 100",
          "Paper Ream A4",
          "Marker Permanent",
          "Calculator Casio FX-991EX",
          "Water Bottle 1L",
          "Lunch Box Plastic",
          "Umbrella Foldable",
          "Jacket Waterproof",
          "Shoes Leather",
          "Socks Cotton Pack",
          "Sunglasses UV Protection",
          "Smart LED Lamp",
          "Dubai",
          "Abu Dhabi",
          "Sharjah",
          "Muscat",
          "Ibra",
          "Salalah",
          "Muscat",
          "Ibra",
          "Dubai",
          "Riyadh",
          "Jeddah",
          "Dammam",
          "Makkah",
          "Medina",
          "Jeddah",
          "Riyadh",
          "Ibra",
          "Dubai",
          "Abu Dhabi",
          "Sharjah",
          "Dubai",
          "Muscat",
          "Salalah",
          "Ibra",
          "Riyadh",
          "Jeddah",
          "Dammam",
          "Riyadh",
          "Makkah",
          "Medina",
          "Riyadh",
          "Ibra",
          "Dubai",
          "Abu Dhabi",
          "Sharjah",
          "Dubai",
          "Muscat",
          "Salalah",
          "Ibra",
          "Riyadh",
          "Jeddah",
          "Dammam",
          "Makkah",
          "Medina",
          "Jeddah",
          "Salalah",
          "Dammam",
          "Riyadh",
          "Makkah",
          "Medina",
          "Ibra",
          "Dubai",
          "Abu Dhabi",
          "Sharjah",
          "Electronics",
          "Appliances",
          "Personal Care",
          "Beverages",
          "Stationery",
          "Furniture",
          "Kitchenware",
          "Sports Equipment",
          "Clothing"
         ],
         "marker": {
          "coloraxis": "coloraxis",
          "colors": {
           "bdata": "ZmZmZmbmi0AAAAAAANCBQAAAAAAAKodAmpmZmZkZYUAAAAAAACBDQAAAAAAAgFlAAAAAAAAAfkAAAAAAAIBmQAAAAAAAgEtAAAAAAAAAPkAAAAAAAAAeQAAAAAAAAAhAAAAAAAAAEkAAAAAAAAAYQAAAAAAAAAJAAAAAAAAAMkBmZmZmZmYqQAAAAAAAAChAAAAAAAAA+D8AAAAAAADoPwAAAAAAABJAAAAAAAAACEAAAAAAAAAeQAAAAAAAAPg/MzMzMzMz8z+amZmZmZkrQAAAAAAAADJAAAAAAAAARUAAAAAAAMBiQAAAAAAAIGxAAAAAAABQVEAAAAAAAFh7QAAAAAAAwGJAAAAAAACIc0AAAAAAALBTQAAAAAAAAFZAZmZmZmYGbUAAAAAAAAByQAAAAAAAgHNAAAAAAAAAYkAAAAAAAPiBQAAAAAAAkFVAAAAAAAAAN0AAAAAAAMBXQAAAAAAAgFlAAAAAAADAakAAAAAAAKBvQAAAAAAAQHFAAAAAAACgT0BmZmZmZmYiQAAAAAAA8H5AAAAAAACAO0AAAAAAAGBXQAAAAAAAABBAzczMzMzMMEAAAAAAAAA0QAAAAAAAADlAAAAAAADAYkAAAAAAAAA5QAAAAAAAABRAAAAAAABAQ0AAAAAAAIBWQAAAAAAAQFFAAAAAAAAABEAAAAAAAAD4P83MzMzMzOw/AAAAAAAAKECbmZmZmZnZPx+F61G4HvU/MzMzMzMzE0AAAAAAALBSQAAAAAAAgEZAAAAAAAAAEEAAAAAAAAAuQAAAAAAAYEJApfRVigMaiED5Z1uzS1GBQM0Y5T9okoZAXJ6mx0tsWUDROLdRgOdXQAAAAAAAAH5AAAAAAACAZkAAAAAAAIBLQAAAAAAAAD5AVVVVVVVVG0AAAAAAAAAIQAAAAAAAABJAAAAAAAAAAkAAAAAAAAAyQKWlpaWlpSlAAAAAAAAAKEAAAAAAAAD4PwAAAAAAAOg/AAAAAAAAEkAAAAAAAAAIQAAAAAAAAB5AsRM7sRO7MEAzMzMzMzPzP5qZmZmZmStAFYinSq7paEBppmtX42BtQAAAAAAAIGxAAAAAAABQVEAAAAAAAFh7QAAAAAAAwGJAUUjgLk5eU0AAAAAAAABWQGZmZmZmBm1AAAAAAAAAckAAAAAAAIBzQMZb2eeQemBAeqBydguvf0AAAAAAAJBVQAAAAAAAADdAAAAAAACAWUAAAAAAAMBqQAAAAAAAoG9AAAAAAACgT0BmZmZmZmYiQAAAAAAA8H5AAAAAAAAAOUAAAAAAAAAEQAAAAAAAAPg/zczMzMzM7D8AAAAAAAAoQDMzMzMzMxNAAAAAAACwUkAAAAAAAIBGQAAAAAAAABBAE+qDzdUXgECPuUR4UmB2QGdxgnUWN1xAtR7KfP0kLECGGgtSpcwmQCUOgQ4ZXnFAiEt2pbkCb0CBOM3oMAt3QJ0wfrSN0k5A",
           "dtype": "f8"
          }
         },
         "name": "",
         "parents": [
          "Electronics/Dubai",
          "Electronics/Abu Dhabi",
          "Electronics/Sharjah",
          "Electronics/Dubai",
          "Electronics/Muscat",
          "Electronics/Ibra",
          "Appliances/Salalah",
          "Appliances/Muscat",
          "Appliances/Ibra",
          "Appliances/Dubai",
          "Personal Care/Riyadh",
          "Personal Care/Jeddah",
          "Personal Care/Dammam",
          "Personal Care/Riyadh",
          "Personal Care/Makkah",
          "Beverages/Medina",
          "Beverages/Jeddah",
          "Beverages/Riyadh",
          "Beverages/Ibra",
          "Beverages/Dubai",
          "Stationery/Abu Dhabi",
          "Stationery/Sharjah",
          "Stationery/Dubai",
          "Stationery/Muscat",
          "Stationery/Salalah",
          "Stationery/Ibra",
          "Stationery/Muscat",
          "Electronics/Riyadh",
          "Furniture/Jeddah",
          "Furniture/Dammam",
          "Furniture/Riyadh",
          "Furniture/Makkah",
          "Furniture/Medina",
          "Furniture/Jeddah",
          "Kitchenware/Riyadh",
          "Kitchenware/Ibra",
          "Kitchenware/Dubai",
          "Kitchenware/Abu Dhabi",
          "Kitchenware/Sharjah",
          "Personal Care/Dubai",
          "Sports Equipment/Muscat",
          "Sports Equipment/Salalah",
          "Sports Equipment/Ibra",
          "Sports Equipment/Muscat",
          "Sports Equipment/Riyadh",
          "Sports Equipment/Jeddah",
          "Electronics/Dammam",
          "Electronics/Riyadh",
          "Electronics/Makkah",
          "Electronics/Medina",
          "Electronics/Jeddah",
          "Electronics/Riyadh",
          "Electronics/Ibra",
          "Electronics/Dubai",
          "Electronics/Abu Dhabi",
          "Electronics/Sharjah",
          "Electronics/Dubai",
          "Electronics/Muscat",
          "Electronics/Salalah",
          "Electronics/Ibra",
          "Electronics/Muscat",
          "Electronics/Riyadh",
          "Furniture/Jeddah",
          "Stationery/Dammam",
          "Stationery/Riyadh",
          "Stationery/Makkah",
          "Stationery/Medina",
          "Beverages/Jeddah",
          "Kitchenware/Riyadh",
          "Personal Care/Ibra",
          "Clothing/Dubai",
          "Clothing/Abu Dhabi",
          "Clothing/Sharjah",
          "Personal Care/Dubai",
          "Electronics/Muscat",
          "Electronics",
          "Electronics",
          "Electronics",
          "Electronics",
          "Electronics",
          "Appliances",
          "Appliances",
          "Appliances",
          "Appliances",
          "Personal Care",
          "Personal Care",
          "Personal Care",
          "Personal Care",
          "Beverages",
          "Beverages",
          "Beverages",
          "Beverages",
          "Beverages",
          "Stationery",
          "Stationery",
          "Stationery",
          "Stationery",
          "Stationery",
          "Stationery",
          "Electronics",
          "Furniture",
          "Furniture",
          "Furniture",
          "Furniture",
          "Furniture",
          "Kitchenware",
          "Kitchenware",
          "Kitchenware",
          "Kitchenware",
          "Kitchenware",
          "Personal Care",
          "Sports Equipment",
          "Sports Equipment",
          "Sports Equipment",
          "Sports Equipment",
          "Sports Equipment",
          "Electronics",
          "Electronics",
          "Electronics",
          "Electronics",
          "Electronics",
          "Stationery",
          "Stationery",
          "Stationery",
          "Stationery",
          "Personal Care",
          "Clothing",
          "Clothing",
          "Clothing",
          "",
          "",
          "",
          "",
          "",
          "",
          "",
          "",
          ""
         ],
         "type": "treemap",
         "values": {
          "bdata": "ZmZmZmbmi0AAAAAAANCBQAAAAAAAKodAmpmZmZkZYUAAAAAAACBDQAAAAAAAgFlAAAAAAAAAfkAAAAAAAIBmQAAAAAAAgEtAAAAAAAAAPkAAAAAAAAAeQAAAAAAAAAhAAAAAAAAAEkAAAAAAAAAYQAAAAAAAAAJAAAAAAAAAMkBmZmZmZmYqQAAAAAAAAChAAAAAAAAA+D8AAAAAAADoPwAAAAAAABJAAAAAAAAACEAAAAAAAAAeQAAAAAAAAPg/MzMzMzMz8z+amZmZmZkrQAAAAAAAADJAAAAAAAAARUAAAAAAAMBiQAAAAAAAIGxAAAAAAABQVEAAAAAAAFh7QAAAAAAAwGJAAAAAAACIc0AAAAAAALBTQAAAAAAAAFZAZmZmZmYGbUAAAAAAAAByQAAAAAAAgHNAAAAAAAAAYkAAAAAAAPiBQAAAAAAAkFVAAAAAAAAAN0AAAAAAAMBXQAAAAAAAgFlAAAAAAADAakAAAAAAAKBvQAAAAAAAQHFAAAAAAACgT0BmZmZmZmYiQAAAAAAA8H5AAAAAAACAO0AAAAAAAGBXQAAAAAAAABBAzczMzMzMMEAAAAAAAAA0QAAAAAAAADlAAAAAAADAYkAAAAAAAAA5QAAAAAAAABRAAAAAAABAQ0AAAAAAAIBWQAAAAAAAQFFAAAAAAAAABEAAAAAAAAD4P83MzMzMzOw/AAAAAAAAKECamZmZmZnZPx+F61G4HvU/MzMzMzMzE0AAAAAAALBSQAAAAAAAgEZAAAAAAAAAEEAAAAAAAAAuQAAAAAAAYEJAZmZmZmaKkEBmZmZmZlaCQAAAAAAAyodAAAAAAAB4cEAAAAAAABBpQAAAAAAAAH5AAAAAAACAZkAAAAAAAIBLQAAAAAAAAD5AAAAAAAAAK0AAAAAAAAAIQAAAAAAAABJAAAAAAAAAAkAAAAAAAAAyQDMzMzMzMytAAAAAAAAAKEAAAAAAAAD4PwAAAAAAAOg/AAAAAAAAEkAAAAAAAAAIQAAAAAAAAB5AAAAAAACAM0AzMzMzMzPzP5qZmZmZmStAAAAAAAA4e0AAAAAAAJyAQAAAAAAAIGxAAAAAAABQVEAAAAAAAFh7QAAAAAAAwGJAFK5H4XoEVEAAAAAAAABWQGZmZmZmBm1AAAAAAAAAckAAAAAAAIBzQAAAAAAA4GNAAAAAAADwhEAAAAAAAJBVQAAAAAAAADdAAAAAAACAWUAAAAAAAMBqQAAAAAAAoG9AAAAAAACgT0BmZmZmZmYiQAAAAAAA8H5AAAAAAAAAOUAAAAAAAAAEQAAAAAAAAPg/zczMzMzM7D8AAAAAAAAoQDMzMzMzMxNAAAAAAACwUkAAAAAAAIBGQAAAAAAAABBAmpmZmZk3sEAAAAAAAEiHQJqZmZmZYWdAzczMzMzsRkCamZmZmZlQQAAAAAAARZZAXI/C9ShCj0AAAAAAAB2RQAAAAAAA8F5A",
          "dtype": "f8"
         }
        }
       ],
       "layout": {
        "coloraxis": {
         "colorbar": {
          "title": {
           "text": "SellingPrice"
          }
         },
         "colorscale": [
          [
           0,
           "#440154"
          ],
          [
           0.1111111111111111,
           "#482878"
          ],
          [
           0.2222222222222222,
           "#3e4989"
          ],
          [
           0.3333333333333333,
           "#31688e"
          ],
          [
           0.4444444444444444,
           "#26828e"
          ],
          [
           0.5555555555555556,
           "#1f9e89"
          ],
          [
           0.6666666666666666,
           "#35b779"
          ],
          [
           0.7777777777777778,
           "#6ece58"
          ],
          [
           0.8888888888888888,
           "#b5de2b"
          ],
          [
           1,
           "#fde725"
          ]
         ]
        },
        "height": 600,
        "legend": {
         "tracegroupgap": 0
        },
        "margin": {
         "b": 10,
         "l": 10,
         "r": 10,
         "t": 120
        },
        "template": {
         "data": {
          "bar": [
           {
            "error_x": {
             "color": "#2a3f5f"
            },
            "error_y": {
             "color": "#2a3f5f"
            },
            "marker": {
             "line": {
              "color": "#E5ECF6",
              "width": 0.5
             },
             "pattern": {
              "fillmode": "overlay",
              "size": 10,
              "solidity": 0.2
             }
            },
            "type": "bar"
           }
          ],
          "barpolar": [
           {
            "marker": {
             "line": {
              "color": "#E5ECF6",
              "width": 0.5
             },
             "pattern": {
              "fillmode": "overlay",
              "size": 10,
              "solidity": 0.2
             }
            },
            "type": "barpolar"
           }
          ],
          "carpet": [
           {
            "aaxis": {
             "endlinecolor": "#2a3f5f",
             "gridcolor": "white",
             "linecolor": "white",
             "minorgridcolor": "white",
             "startlinecolor": "#2a3f5f"
            },
            "baxis": {
             "endlinecolor": "#2a3f5f",
             "gridcolor": "white",
             "linecolor": "white",
             "minorgridcolor": "white",
             "startlinecolor": "#2a3f5f"
            },
            "type": "carpet"
           }
          ],
          "choropleth": [
           {
            "colorbar": {
             "outlinewidth": 0,
             "ticks": ""
            },
            "type": "choropleth"
           }
          ],
          "contour": [
           {
            "colorbar": {
             "outlinewidth": 0,
             "ticks": ""
            },
            "colorscale": [
             [
              0,
              "#0d0887"
             ],
             [
              0.1111111111111111,
              "#46039f"
             ],
             [
              0.2222222222222222,
              "#7201a8"
             ],
             [
              0.3333333333333333,
              "#9c179e"
             ],
             [
              0.4444444444444444,
              "#bd3786"
             ],
             [
              0.5555555555555556,
              "#d8576b"
             ],
             [
              0.6666666666666666,
              "#ed7953"
             ],
             [
              0.7777777777777778,
              "#fb9f3a"
             ],
             [
              0.8888888888888888,
              "#fdca26"
             ],
             [
              1,
              "#f0f921"
             ]
            ],
            "type": "contour"
           }
          ],
          "contourcarpet": [
           {
            "colorbar": {
             "outlinewidth": 0,
             "ticks": ""
            },
            "type": "contourcarpet"
           }
          ],
          "heatmap": [
           {
            "colorbar": {
             "outlinewidth": 0,
             "ticks": ""
            },
            "colorscale": [
             [
              0,
              "#0d0887"
             ],
             [
              0.1111111111111111,
              "#46039f"
             ],
             [
              0.2222222222222222,
              "#7201a8"
             ],
             [
              0.3333333333333333,
              "#9c179e"
             ],
             [
              0.4444444444444444,
              "#bd3786"
             ],
             [
              0.5555555555555556,
              "#d8576b"
             ],
             [
              0.6666666666666666,
              "#ed7953"
             ],
             [
              0.7777777777777778,
              "#fb9f3a"
             ],
             [
              0.8888888888888888,
              "#fdca26"
             ],
             [
              1,
              "#f0f921"
             ]
            ],
            "type": "heatmap"
           }
          ],
          "histogram": [
           {
            "marker": {
             "pattern": {
              "fillmode": "overlay",
              "size": 10,
              "solidity": 0.2
             }
            },
            "type": "histogram"
           }
          ],
          "histogram2d": [
           {
            "colorbar": {
             "outlinewidth": 0,
             "ticks": ""
            },
            "colorscale": [
             [
              0,
              "#0d0887"
             ],
             [
              0.1111111111111111,
              "#46039f"
             ],
             [
              0.2222222222222222,
              "#7201a8"
             ],
             [
              0.3333333333333333,
              "#9c179e"
             ],
             [
              0.4444444444444444,
              "#bd3786"
             ],
             [
              0.5555555555555556,
              "#d8576b"
             ],
             [
              0.6666666666666666,
              "#ed7953"
             ],
             [
              0.7777777777777778,
              "#fb9f3a"
             ],
             [
              0.8888888888888888,
              "#fdca26"
             ],
             [
              1,
              "#f0f921"
             ]
            ],
            "type": "histogram2d"
           }
          ],
          "histogram2dcontour": [
           {
            "colorbar": {
             "outlinewidth": 0,
             "ticks": ""
            },
            "colorscale": [
             [
              0,
              "#0d0887"
             ],
             [
              0.1111111111111111,
              "#46039f"
             ],
             [
              0.2222222222222222,
              "#7201a8"
             ],
             [
              0.3333333333333333,
              "#9c179e"
             ],
             [
              0.4444444444444444,
              "#bd3786"
             ],
             [
              0.5555555555555556,
              "#d8576b"
             ],
             [
              0.6666666666666666,
              "#ed7953"
             ],
             [
              0.7777777777777778,
              "#fb9f3a"
             ],
             [
              0.8888888888888888,
              "#fdca26"
             ],
             [
              1,
              "#f0f921"
             ]
            ],
            "type": "histogram2dcontour"
           }
          ],
          "mesh3d": [
           {
            "colorbar": {
             "outlinewidth": 0,
             "ticks": ""
            },
            "type": "mesh3d"
           }
          ],
          "parcoords": [
           {
            "line": {
             "colorbar": {
              "outlinewidth": 0,
              "ticks": ""
             }
            },
            "type": "parcoords"
           }
          ],
          "pie": [
           {
            "automargin": true,
            "type": "pie"
           }
          ],
          "scatter": [
           {
            "fillpattern": {
             "fillmode": "overlay",
             "size": 10,
             "solidity": 0.2
            },
            "type": "scatter"
           }
          ],
          "scatter3d": [
           {
            "line": {
             "colorbar": {
              "outlinewidth": 0,
              "ticks": ""
             }
            },
            "marker": {
             "colorbar": {
              "outlinewidth": 0,
              "ticks": ""
             }
            },
            "type": "scatter3d"
           }
          ],
          "scattercarpet": [
           {
            "marker": {
             "colorbar": {
              "outlinewidth": 0,
              "ticks": ""
             }
            },
            "type": "scattercarpet"
           }
          ],
          "scattergeo": [
           {
            "marker": {
             "colorbar": {
              "outlinewidth": 0,
              "ticks": ""
             }
            },
            "type": "scattergeo"
           }
          ],
          "scattergl": [
           {
            "marker": {
             "colorbar": {
              "outlinewidth": 0,
              "ticks": ""
             }
            },
            "type": "scattergl"
           }
          ],
          "scattermap": [
           {
            "marker": {
             "colorbar": {
              "outlinewidth": 0,
              "ticks": ""
             }
            },
            "type": "scattermap"
           }
          ],
          "scattermapbox": [
           {
            "marker": {
             "colorbar": {
              "outlinewidth": 0,
              "ticks": ""
             }
            },
            "type": "scattermapbox"
           }
          ],
          "scatterpolar": [
           {
            "marker": {
             "colorbar": {
              "outlinewidth": 0,
              "ticks": ""
             }
            },
            "type": "scatterpolar"
           }
          ],
          "scatterpolargl": [
           {
            "marker": {
             "colorbar": {
              "outlinewidth": 0,
              "ticks": ""
             }
            },
            "type": "scatterpolargl"
           }
          ],
          "scatterternary": [
           {
            "marker": {
             "colorbar": {
              "outlinewidth": 0,
              "ticks": ""
             }
            },
            "type": "scatterternary"
           }
          ],
          "surface": [
           {
            "colorbar": {
             "outlinewidth": 0,
             "ticks": ""
            },
            "colorscale": [
             [
              0,
              "#0d0887"
             ],
             [
              0.1111111111111111,
              "#46039f"
             ],
             [
              0.2222222222222222,
              "#7201a8"
             ],
             [
              0.3333333333333333,
              "#9c179e"
             ],
             [
              0.4444444444444444,
              "#bd3786"
             ],
             [
              0.5555555555555556,
              "#d8576b"
             ],
             [
              0.6666666666666666,
              "#ed7953"
             ],
             [
              0.7777777777777778,
              "#fb9f3a"
             ],
             [
              0.8888888888888888,
              "#fdca26"
             ],
             [
              1,
              "#f0f921"
             ]
            ],
            "type": "surface"
           }
          ],
          "table": [
           {
            "cells": {
             "fill": {
              "color": "#EBF0F8"
             },
             "line": {
              "color": "white"
             }
            },
            "header": {
             "fill": {
              "color": "#C8D4E3"
             },
             "line": {
              "color": "white"
             }
            },
            "type": "table"
           }
          ]
         },
         "layout": {
          "annotationdefaults": {
           "arrowcolor": "#2a3f5f",
           "arrowhead": 0,
           "arrowwidth": 1
          },
          "autotypenumbers": "strict",
          "coloraxis": {
           "colorbar": {
            "outlinewidth": 0,
            "ticks": ""
           }
          },
          "colorscale": {
           "diverging": [
            [
             0,
             "#8e0152"
            ],
            [
             0.1,
             "#c51b7d"
            ],
            [
             0.2,
             "#de77ae"
            ],
            [
             0.3,
             "#f1b6da"
            ],
            [
             0.4,
             "#fde0ef"
            ],
            [
             0.5,
             "#f7f7f7"
            ],
            [
             0.6,
             "#e6f5d0"
            ],
            [
             0.7,
             "#b8e186"
            ],
            [
             0.8,
             "#7fbc41"
            ],
            [
             0.9,
             "#4d9221"
            ],
            [
             1,
             "#276419"
            ]
           ],
           "sequential": [
            [
             0,
             "#0d0887"
            ],
            [
             0.1111111111111111,
             "#46039f"
            ],
            [
             0.2222222222222222,
             "#7201a8"
            ],
            [
             0.3333333333333333,
             "#9c179e"
            ],
            [
             0.4444444444444444,
             "#bd3786"
            ],
            [
             0.5555555555555556,
             "#d8576b"
            ],
            [
             0.6666666666666666,
             "#ed7953"
            ],
            [
             0.7777777777777778,
             "#fb9f3a"
            ],
            [
             0.8888888888888888,
             "#fdca26"
            ],
            [
             1,
             "#f0f921"
            ]
           ],
           "sequentialminus": [
            [
             0,
             "#0d0887"
            ],
            [
             0.1111111111111111,
             "#46039f"
            ],
            [
             0.2222222222222222,
             "#7201a8"
            ],
            [
             0.3333333333333333,
             "#9c179e"
            ],
            [
             0.4444444444444444,
             "#bd3786"
            ],
            [
             0.5555555555555556,
             "#d8576b"
            ],
            [
             0.6666666666666666,
             "#ed7953"
            ],
            [
             0.7777777777777778,
             "#fb9f3a"
            ],
            [
             0.8888888888888888,
             "#fdca26"
            ],
            [
             1,
             "#f0f921"
            ]
           ]
          },
          "colorway": [
           "#636efa",
           "#EF553B",
           "#00cc96",
           "#ab63fa",
           "#FFA15A",
           "#19d3f3",
           "#FF6692",
           "#B6E880",
           "#FF97FF",
           "#FECB52"
          ],
          "font": {
           "color": "#2a3f5f"
          },
          "geo": {
           "bgcolor": "white",
           "lakecolor": "white",
           "landcolor": "#E5ECF6",
           "showlakes": true,
           "showland": true,
           "subunitcolor": "white"
          },
          "hoverlabel": {
           "align": "left"
          },
          "hovermode": "closest",
          "mapbox": {
           "style": "light"
          },
          "paper_bgcolor": "white",
          "plot_bgcolor": "#E5ECF6",
          "polar": {
           "angularaxis": {
            "gridcolor": "white",
            "linecolor": "white",
            "ticks": ""
           },
           "bgcolor": "#E5ECF6",
           "radialaxis": {
            "gridcolor": "white",
            "linecolor": "white",
            "ticks": ""
           }
          },
          "scene": {
           "xaxis": {
            "backgroundcolor": "#E5ECF6",
            "gridcolor": "white",
            "gridwidth": 2,
            "linecolor": "white",
            "showbackground": true,
            "ticks": "",
            "zerolinecolor": "white"
           },
           "yaxis": {
            "backgroundcolor": "#E5ECF6",
            "gridcolor": "white",
            "gridwidth": 2,
            "linecolor": "white",
            "showbackground": true,
            "ticks": "",
            "zerolinecolor": "white"
           },
           "zaxis": {
            "backgroundcolor": "#E5ECF6",
            "gridcolor": "white",
            "gridwidth": 2,
            "linecolor": "white",
            "showbackground": true,
            "ticks": "",
            "zerolinecolor": "white"
           }
          },
          "shapedefaults": {
           "line": {
            "color": "#2a3f5f"
           }
          },
          "ternary": {
           "aaxis": {
            "gridcolor": "white",
            "linecolor": "white",
            "ticks": ""
           },
           "baxis": {
            "gridcolor": "white",
            "linecolor": "white",
            "ticks": ""
           },
           "bgcolor": "#E5ECF6",
           "caxis": {
            "gridcolor": "white",
            "linecolor": "white",
            "ticks": ""
           }
          },
          "title": {
           "x": 0.05
          },
          "xaxis": {
           "automargin": true,
           "gridcolor": "white",
           "linecolor": "white",
           "ticks": "",
           "title": {
            "standoff": 15
           },
           "zerolinecolor": "white",
           "zerolinewidth": 2
          },
          "yaxis": {
           "automargin": true,
           "gridcolor": "white",
           "linecolor": "white",
           "ticks": "",
           "title": {
            "standoff": 15
           },
           "zerolinecolor": "white",
           "zerolinewidth": 2
          }
         }
        },
        "title": {
         "text": "Sales Distribution by Category, Region, and Product"
        }
       }
      }
     },
     "metadata": {},
     "output_type": "display_data"
    }
   ],
   "source": [
    "import pandas as pd\n",
    "import plotly.express as px\n",
    "import plotly.graph_objects as go\n",
    "\n",
    "# Load Excel file\n",
    "df = pd.read_excel(r\"C:\\Users\\fahadee\\Desktop\\Inventory Managment System\\Inventoty_Clean_Data.xlsx\")\n",
    "df['SaleDate'] = pd.to_datetime(df['SaleDate'])\n",
    "\n",
    "# ------------------------------\n",
    "# 1: Top-selling Categories (Bar Chart Improved)\n",
    "category_sales = df.groupby('Category')['SellingPrice'].sum().sort_values(ascending=False).reset_index()\n",
    "fig1 = px.bar(\n",
    "    category_sales, x='Category', y='SellingPrice',\n",
    "    color='SellingPrice', color_continuous_scale='Viridis',\n",
    "    title='Total Sales by Category',\n",
    "    text='SellingPrice'\n",
    ")\n",
    "fig1.update_traces(texttemplate='%{text:.2f}', textposition='outside')\n",
    "fig1.update_layout(\n",
    "    yaxis_title='Total Sales',\n",
    "    xaxis_title='Category',\n",
    "    margin=dict(l=60, r=40, t=120, b=120),\n",
    "    xaxis_tickangle=-45,\n",
    "    hovermode='x unified',\n",
    "    uniformtext_minsize=8,\n",
    "    uniformtext_mode='hide'\n",
    ")\n",
    "\n",
    "# ------------------------------\n",
    "# 2: Stock Levels per Product (Horizontal Bar)\n",
    "product_stock = df.groupby('ProductName')['StockQuantity'].sum().sort_values(ascending=True).reset_index()\n",
    "fig2 = px.bar(\n",
    "    product_stock, x='StockQuantity', y='ProductName',\n",
    "    orientation='h', color='StockQuantity', color_continuous_scale='Magma',\n",
    "    title='Stock Levels by Product',\n",
    "    text='StockQuantity'\n",
    ")\n",
    "fig2.update_traces(texttemplate='%{text}', textposition='outside')\n",
    "fig2.update_layout(\n",
    "    yaxis_title='Product',\n",
    "    xaxis_title='Stock Quantity',\n",
    "    margin=dict(l=200, r=40, t=80, b=60),\n",
    "    hovermode='y unified'\n",
    ")\n",
    "\n",
    "# ------------------------------\n",
    "# 3: Daily Sales Trend (Enhanced, Bigger, More Detailed)\n",
    "daily_sales = df.groupby('SaleDate')['SellingPrice'].sum().reset_index()\n",
    "fig3 = go.Figure()\n",
    "\n",
    "# Line with markers\n",
    "fig3.add_trace(go.Scatter(\n",
    "    x=daily_sales['SaleDate'],\n",
    "    y=daily_sales['SellingPrice'],\n",
    "    mode='lines+markers',\n",
    "    line=dict(color='blue', width=2),\n",
    "    marker=dict(color='orange', size=6),\n",
    "    name='Daily Sales',\n",
    "    hovertemplate='Date: %{x|%Y-%m-%d}<br>Sales: %{y:.2f}<extra></extra>'\n",
    "))\n",
    "\n",
    "# Peak day annotation\n",
    "peak_day = daily_sales.loc[daily_sales['SellingPrice'].idxmax()]\n",
    "fig3.add_trace(go.Scatter(\n",
    "    x=[peak_day['SaleDate']],\n",
    "    y=[peak_day['SellingPrice']],\n",
    "    mode='markers+text',\n",
    "    marker=dict(color='red', size=12, symbol='diamond'),\n",
    "    text=[f\"Peak: {peak_day['SellingPrice']:.2f}\"],\n",
    "    textposition='top center',\n",
    "    textfont=dict(size=12, color='black'),\n",
    "    name='Peak'\n",
    "))\n",
    "\n",
    "fig3.update_layout(\n",
    "    title='Daily Sales Trend (Detailed)',\n",
    "    xaxis_title='Date',\n",
    "    yaxis_title='Selling Price',\n",
    "    xaxis=dict(\n",
    "        tickangle=-45,\n",
    "        showgrid=True,\n",
    "        gridcolor='lightgrey',\n",
    "        rangeslider=dict(visible=True),\n",
    "        rangeselector=dict(\n",
    "            buttons=list([\n",
    "                dict(count=7, label=\"1w\", step=\"day\", stepmode=\"backward\"),\n",
    "                dict(count=1, label=\"1m\", step=\"month\", stepmode=\"backward\"),\n",
    "                dict(step=\"all\")\n",
    "            ])\n",
    "        ),\n",
    "        type='date'\n",
    "    ),\n",
    "    yaxis=dict(showgrid=True, gridcolor='lightgrey'),\n",
    "    margin=dict(l=60, r=40, t=120, b=120),\n",
    "    hovermode='x unified',\n",
    "    height=600\n",
    ")\n",
    "\n",
    "# ------------------------------\n",
    "# 4: Supplier Discount vs Sales (Scatter, More Detailed)\n",
    "supplier_stats = df.groupby('Supplier').agg({\n",
    "    'Discount':'mean', \n",
    "    'SellingPrice':'sum', \n",
    "    'StockQuantity':'sum'\n",
    "}).reset_index()\n",
    "\n",
    "fig4 = px.scatter(\n",
    "    supplier_stats, x='Discount', y='SellingPrice',\n",
    "    size='StockQuantity', color='Supplier',\n",
    "    hover_name='Supplier',\n",
    "    title='Supplier Discount vs Total Sales',\n",
    "    labels={\n",
    "        'Discount':'Avg Discount (%)',\n",
    "        'SellingPrice':'Total Sales',\n",
    "        'StockQuantity':'Total Stock'\n",
    "    },\n",
    "    size_max=50\n",
    ")\n",
    "fig4.update_traces(\n",
    "    marker=dict(line=dict(width=1, color='DarkSlateGrey')),\n",
    "    hovertemplate='<b>%{hovertext}</b><br>Discount: %{x:.2f}%<br>Total Sales: %{y:.2f}<br>Total Stock: %{marker.size}<extra></extra>'\n",
    ")\n",
    "fig4.update_layout(\n",
    "    yaxis_title='Total Sales',\n",
    "    xaxis_title='Average Discount (%)',\n",
    "    margin=dict(l=60, r=40, t=120, b=60),\n",
    "    hovermode='closest',\n",
    "    height=600\n",
    ")\n",
    "\n",
    "# ------------------------------\n",
    "# 5: Treemap of Sales by Category → Region → Product (Simplified)\n",
    "fig5 = px.treemap(\n",
    "    df, path=['Category', 'Region', 'ProductName'], values='SellingPrice',\n",
    "    color='SellingPrice', color_continuous_scale='Viridis',\n",
    "    title='Sales Distribution by Category, Region, and Product'\n",
    ")\n",
    "fig5.update_layout(\n",
    "    margin=dict(l=10, r=10, t=120, b=10),\n",
    "    height=600\n",
    ")\n",
    "\n",
    "# ------------------------------\n",
    "# Display all figures\n",
    "fig1.show()\n",
    "fig2.show()\n",
    "fig3.show()\n",
    "fig4.show()\n",
    "fig5.show()\n"
   ]
  },
  {
   "cell_type": "code",
   "execution_count": null,
   "id": "2a7cb335-3cec-478f-884d-a0cc6ad3c148",
   "metadata": {},
   "outputs": [],
   "source": []
  }
 ],
 "metadata": {
  "kernelspec": {
   "display_name": "Python 3",
   "language": "python",
   "name": "python3"
  },
  "language_info": {
   "codemirror_mode": {
    "name": "ipython",
    "version": 3
   },
   "file_extension": ".py",
   "mimetype": "text/x-python",
   "name": "python",
   "nbconvert_exporter": "python",
   "pygments_lexer": "ipython3",
   "version": "3.12.10"
  }
 },
 "nbformat": 4,
 "nbformat_minor": 5
}
